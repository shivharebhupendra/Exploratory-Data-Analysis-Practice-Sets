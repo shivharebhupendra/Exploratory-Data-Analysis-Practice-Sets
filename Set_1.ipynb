{
 "cells": [
  {
   "cell_type": "markdown",
   "id": "e6086979-b46c-4236-8906-53a38ed5e917",
   "metadata": {},
   "source": [
    "### 1. DataFrame Creation & Inspection (Pandas):\n",
    "Create a Pandas DataFrame from given lists or a dictionary and inspect its structure.\n",
    "\n",
    "Tasks: Output the DataFrame’s shape (rows, columns) and display the first 3 and last 2 rows using df.head() and df.tail(). (Hint: In Pandas, df.shape gives (rows,columns) and head()/tail() return the first/last 5 rows by default"
   ]
  },
  {
   "cell_type": "code",
   "execution_count": 2,
   "id": "d6842b52-76cc-44e9-aba3-9fe4f408b077",
   "metadata": {},
   "outputs": [
    {
     "name": "stdout",
     "output_type": "stream",
     "text": [
      "(5, 3)\n"
     ]
    },
    {
     "data": {
      "text/html": [
       "<div>\n",
       "<style scoped>\n",
       "    .dataframe tbody tr th:only-of-type {\n",
       "        vertical-align: middle;\n",
       "    }\n",
       "\n",
       "    .dataframe tbody tr th {\n",
       "        vertical-align: top;\n",
       "    }\n",
       "\n",
       "    .dataframe thead th {\n",
       "        text-align: right;\n",
       "    }\n",
       "</style>\n",
       "<table border=\"1\" class=\"dataframe\">\n",
       "  <thead>\n",
       "    <tr style=\"text-align: right;\">\n",
       "      <th></th>\n",
       "      <th>Name</th>\n",
       "      <th>Age</th>\n",
       "      <th>Salary</th>\n",
       "    </tr>\n",
       "  </thead>\n",
       "  <tbody>\n",
       "    <tr>\n",
       "      <th>0</th>\n",
       "      <td>Alice</td>\n",
       "      <td>25</td>\n",
       "      <td>70000</td>\n",
       "    </tr>\n",
       "    <tr>\n",
       "      <th>1</th>\n",
       "      <td>Bob</td>\n",
       "      <td>30</td>\n",
       "      <td>80000</td>\n",
       "    </tr>\n",
       "    <tr>\n",
       "      <th>2</th>\n",
       "      <td>Charlie</td>\n",
       "      <td>35</td>\n",
       "      <td>65000</td>\n",
       "    </tr>\n",
       "  </tbody>\n",
       "</table>\n",
       "</div>"
      ],
      "text/plain": [
       "      Name  Age  Salary\n",
       "0    Alice   25   70000\n",
       "1      Bob   30   80000\n",
       "2  Charlie   35   65000"
      ]
     },
     "metadata": {},
     "output_type": "display_data"
    },
    {
     "data": {
      "text/html": [
       "<div>\n",
       "<style scoped>\n",
       "    .dataframe tbody tr th:only-of-type {\n",
       "        vertical-align: middle;\n",
       "    }\n",
       "\n",
       "    .dataframe tbody tr th {\n",
       "        vertical-align: top;\n",
       "    }\n",
       "\n",
       "    .dataframe thead th {\n",
       "        text-align: right;\n",
       "    }\n",
       "</style>\n",
       "<table border=\"1\" class=\"dataframe\">\n",
       "  <thead>\n",
       "    <tr style=\"text-align: right;\">\n",
       "      <th></th>\n",
       "      <th>Name</th>\n",
       "      <th>Age</th>\n",
       "      <th>Salary</th>\n",
       "    </tr>\n",
       "  </thead>\n",
       "  <tbody>\n",
       "    <tr>\n",
       "      <th>3</th>\n",
       "      <td>Diana</td>\n",
       "      <td>40</td>\n",
       "      <td>90000</td>\n",
       "    </tr>\n",
       "    <tr>\n",
       "      <th>4</th>\n",
       "      <td>Ethan</td>\n",
       "      <td>28</td>\n",
       "      <td>72000</td>\n",
       "    </tr>\n",
       "  </tbody>\n",
       "</table>\n",
       "</div>"
      ],
      "text/plain": [
       "    Name  Age  Salary\n",
       "3  Diana   40   90000\n",
       "4  Ethan   28   72000"
      ]
     },
     "metadata": {},
     "output_type": "display_data"
    }
   ],
   "source": [
    "import pandas as pd\n",
    "data = {\n",
    "    'Name': ['Alice', 'Bob', 'Charlie', 'Diana', 'Ethan'],\n",
    "    'Age':  [25, 30, 35, 40, 28],\n",
    "    'Salary': [70000, 80000, 65000, 90000, 72000]\n",
    "}\n",
    "df = pd.DataFrame(data)\n",
    "\n",
    "print(df.shape)\n",
    "display(df.head(3))\n",
    "display(df.tail(2))"
   ]
  },
  {
   "cell_type": "markdown",
   "id": "fa630587-a350-4765-a189-417f14dea26c",
   "metadata": {},
   "source": [
    "### 2. Value Counts / Frequency (Pandas):\n",
    "Given a Pandas Series or a DataFrame column with categorical data, count the occurrences of each category.\n",
    "\n",
    "Tasks: Use value_counts() to compute the frequency of each unique color. (Hint: value_counts() returns counts of unique values in a column"
   ]
  },
  {
   "cell_type": "code",
   "execution_count": 5,
   "id": "8b0fa6ae-8efd-43ee-8c6e-fb1cd11da345",
   "metadata": {},
   "outputs": [
    {
     "name": "stdout",
     "output_type": "stream",
     "text": [
      "Blue      3\n",
      "Green     3\n",
      "Red       2\n",
      "Yellow    1\n",
      "Name: count, dtype: int64\n"
     ]
    }
   ],
   "source": [
    "import pandas as pd\n",
    "colors = pd.Series(['Red', 'Blue', 'Green', 'Blue', 'Green', 'Green', 'Red', 'Blue', 'Yellow'])\n",
    "\n",
    "print(colors.value_counts())"
   ]
  },
  {
   "cell_type": "markdown",
   "id": "a42b6ad6-2cd2-4290-a459-f591050c5ace",
   "metadata": {},
   "source": [
    "### 3. Array Creation & Operations (NumPy):\n",
    "Work with NumPy arrays for basic computations.\n",
    "\n",
    "Tasks: Compute the sum of all elements, the mean of each row, and the transpose of arr. (Hint: NumPy’s vectorized operations make these efficient; for example arr.sum(), arr.mean(axis=1)"
   ]
  },
  {
   "cell_type": "code",
   "execution_count": 8,
   "id": "8988e4e5-8dc7-478b-b9ef-c24860e6a704",
   "metadata": {},
   "outputs": [
    {
     "name": "stdout",
     "output_type": "stream",
     "text": [
      "78\n",
      "[ 2.5  6.5 10.5]\n",
      "[[ 1  5  9]\n",
      " [ 2  6 10]\n",
      " [ 3  7 11]\n",
      " [ 4  8 12]]\n"
     ]
    }
   ],
   "source": [
    "import numpy as np\n",
    "# Create a 3×4 array from a list of lists\n",
    "arr = np.array([[1, 2, 3, 4],\n",
    "                [5, 6, 7, 8],\n",
    "                [9, 10, 11, 12]])\n",
    "print(arr.sum())\n",
    "print(arr.mean(axis=1))\n",
    "print(arr.transpose())"
   ]
  },
  {
   "cell_type": "markdown",
   "id": "e9b5993b-886e-4790-a6f4-a1ceea9b106c",
   "metadata": {},
   "source": [
    "### 4. Filtering & Set Operations (Pandas):\n",
    "Given two Pandas Series or columns, find elements present in one and not the other.\n",
    "\n",
    "Tasks: Identify the values in serA that are not in serB (and vice versa). (Hint: Use boolean indexing with the .isin() method, e.g. serA[~serA.isin(serB)] returns values in A not in B"
   ]
  },
  {
   "cell_type": "code",
   "execution_count": 11,
   "id": "dab98640-a1f5-4209-a227-b5d3764492ea",
   "metadata": {},
   "outputs": [
    {
     "name": "stdout",
     "output_type": "stream",
     "text": [
      "0    10\n",
      "1    20\n",
      "3    40\n",
      "dtype: int64\n",
      "2    60\n",
      "3    70\n",
      "dtype: int64\n"
     ]
    }
   ],
   "source": [
    "import pandas as pd\n",
    "serA = pd.Series([10, 20, 30, 40, 50])\n",
    "serB = pd.Series([30, 50, 60, 70])\n",
    "\n",
    "print(serA[~serA.isin(serB)])\n",
    "print(serB[~serB.isin(serA)])"
   ]
  },
  {
   "cell_type": "markdown",
   "id": "d24db2a3-0b12-424a-8796-64794699c4cc",
   "metadata": {},
   "source": [
    "### 5. Group-By Aggregation (Pandas):\n",
    "Aggregate data by groups.\n",
    "\n",
    "Tasks: Add a column Revenue = Quantity * Price, then group by Item and compute the total revenue for each item. (Hint: Use df.groupby('Item')['Revenue'].sum(). The groupby() function splits the data and applies an aggregation.)"
   ]
  },
  {
   "cell_type": "code",
   "execution_count": 14,
   "id": "a6d4fb7d-6c0d-4f18-ab2c-46f802bc14de",
   "metadata": {},
   "outputs": [
    {
     "name": "stdout",
     "output_type": "stream",
     "text": [
      "Item\n",
      "Book      120.0\n",
      "Pen        33.0\n",
      "Pencil      7.5\n",
      "Name: Revenue, dtype: float64\n"
     ]
    }
   ],
   "source": [
    "import pandas as pd\n",
    "sales = pd.DataFrame({\n",
    "    'Item': ['Pen', 'Pen', 'Book', 'Book', 'Pencil', 'Pen'],\n",
    "    'Quantity': [10, 5, 8, 2, 15, 7],\n",
    "    'Price':    [1.5, 1.5, 12.0, 12.0, 0.5, 1.5]\n",
    "})\n",
    "\n",
    "sales['Revenue'] = sales['Quantity'] * sales['Price']\n",
    "\n",
    "print(sales.groupby('Item')['Revenue'].sum())"
   ]
  },
  {
   "cell_type": "markdown",
   "id": "90137abb-bb4d-4680-a63b-37ad8ef3714b",
   "metadata": {},
   "source": [
    "### 6. Joining DataFrames (Pandas):\n",
    "Merge or join two tables on a key.\n",
    "\n",
    "Tasks: Perform an inner join on column Key and show the resulting DataFrame. Then try a left join. (Hint: Use pd.merge(left, right, how='inner', on='Key'). The merge() function implements a database-style join"
   ]
  },
  {
   "cell_type": "code",
   "execution_count": 17,
   "id": "5448bed2-c311-40a1-8ef9-3c23524af30f",
   "metadata": {},
   "outputs": [
    {
     "name": "stdout",
     "output_type": "stream",
     "text": [
      "  Key  Value1  Value2\n",
      "0   B     200     800\n",
      "1   C     300     900\n",
      "  Key  Value1  Value2\n",
      "0   A     100     NaN\n",
      "1   B     200   800.0\n",
      "2   C     300   900.0\n"
     ]
    }
   ],
   "source": [
    "import pandas as pd\n",
    "left = pd.DataFrame({'Key': ['A', 'B', 'C'], 'Value1': [100, 200, 300]})\n",
    "right = pd.DataFrame({'Key': ['B', 'C', 'D'], 'Value2': [800, 900, 1000]})\n",
    "\n",
    "innerjoin = pd.merge(left, right, how='inner', on='Key')\n",
    "print(innerjoin)\n",
    "\n",
    "leftjoin = pd.merge(left, right, how='left', on='Key')\n",
    "print(leftjoin)"
   ]
  },
  {
   "cell_type": "markdown",
   "id": "c5d94a4f-93e3-435d-b618-a000fb1f4e76",
   "metadata": {},
   "source": [
    "### 7. Scatter Plot with Matplotlib:\n",
    "Create a scatter (bubble) chart from numerical data.\n",
    "\n",
    "Figure: Example scatter plot with Matplotlib (each point’s color and size vary)\n",
    "matplotlib.org\n",
    ". Create a scatter plot of x vs. y using plt.scatter(x, y, s=sizes, c=colors, alpha=0.6). Customize axes labels and a title. (Hint: Matplotlib’s scatter() can vary marker size (s) and color (c) by array, as shown in the official example"
   ]
  },
  {
   "cell_type": "code",
   "execution_count": 33,
   "id": "b8ccc65b-4f10-44e1-a837-320ebaec69c1",
   "metadata": {},
   "outputs": [
    {
     "data": {
      "image/png": "[encoded data removed]",
      "text/plain": [
       "<Figure size 1000x600 with 2 Axes>"
      ]
     },
     "metadata": {},
     "output_type": "display_data"
    }
   ],
   "source": [
    "import numpy as np\n",
    "import seaborn as sns\n",
    "import matplotlib.pyplot as plt\n",
    "x = np.linspace(0, 10, 50)\n",
    "y = np.sin(x) + np.random.normal(scale=0.2, size=50)\n",
    "sizes = 100 * np.random.rand(50)  # Marker sizes\n",
    "colors = np.random.rand(50)       # Color values\n",
    "\n",
    "\n",
    "plt.figure(figsize=(10, 6))\n",
    "plt.scatter(x, y, s=sizes, c=colors, alpha=0.7, cmap='viridis')\n",
    "plt.colorbar(label='Color Scale')\n",
    "plt.title(\"Scatter Plot\")\n",
    "plt.xlabel(\"X-axis\")\n",
    "plt.ylabel(\"Y-axis\")\n",
    "plt.show()"
   ]
  },
  {
   "cell_type": "markdown",
   "id": "07ebd39f-ad82-40fc-a467-0ac85cedf4bd",
   "metadata": {},
   "source": [
    "### 8. Boxplot and Categorical Plotting (Seaborn):\n",
    "Visualize distributions by category.\n",
    "\n",
    "Tasks: Use Seaborn to create a boxplot of total_bill by day of week. (Hint: You can call sns.boxplot(data=df, x='day', y='total_bill'). For example, sns.boxplot(x=titanic[\"age\"]) draws a simple boxplot"
   ]
  },
  {
   "cell_type": "code",
   "execution_count": 38,
   "id": "56f96199-e05a-45a8-bcf3-bd35de6bfec0",
   "metadata": {},
   "outputs": [
    {
     "data": {
      "image/png": "[encoded data removed]",
      "text/plain": [
       "<Figure size 800x600 with 1 Axes>"
      ]
     },
     "metadata": {},
     "output_type": "display_data"
    }
   ],
   "source": [
    "import pandas as pd\n",
    "import seaborn as sns\n",
    "import matplotlib.pyplot as plt\n",
    "\n",
    "# Create a mini version of the tips dataset\n",
    "df = pd.DataFrame({\n",
    "    'total_bill': [16.99, 10.34, 21.01, 23.68, 24.59, 25.29, 8.77, 26.88, 15.04, 14.78],\n",
    "    'tip':        [1.01, 1.66, 3.50, 3.31, 3.61, 4.71, 2.00, 3.12, 1.96, 3.23],\n",
    "    'sex':        ['Female','Male','Male','Male','Female','Male','Male','Male','Female','Male'],\n",
    "    'day':        ['Sun','Sun','Sun','Sat','Sat','Sat','Sat','Sun','Sun','Sun'],\n",
    "    'time':       ['Dinner','Dinner','Dinner','Dinner','Dinner','Dinner','Dinner','Dinner','Dinner','Dinner'],\n",
    "    'size':       [2, 3, 3, 2, 4, 4, 2, 4, 2, 2]\n",
    "})\n",
    "\n",
    "# Create boxplot\n",
    "plt.figure(figsize=(8,6))\n",
    "sns.boxplot(data=df, x='day', y='total_bill')\n",
    "plt.title(\"Total Bill Distribution by Day\")\n",
    "plt.show()\n"
   ]
  },
  {
   "cell_type": "markdown",
   "id": "7d68f980-2fff-43be-85ff-dc9642db3cb0",
   "metadata": {},
   "source": [
    "### 9. Interactive Scatter Plot (Plotly):\n",
    "Use Plotly Express to make an interactive scatter plot.\n",
    "\n",
    "Tasks: Plot sepal_width vs. sepal_length, coloring points by species. Experiment with adding hover data or sizing. (Hint: In Plotly, each row of the DataFrame is a point in the scatter plot\n",
    "plotly.com\n",
    ". For example, px.scatter(df, x=\"sepal_width\", y=\"sepal_length\", color=\"species\") creates an interactive scatter chart"
   ]
  },
  {
   "cell_type": "code",
   "execution_count": 75,
   "id": "57508fbc-e02c-4b1e-a227-6eafb6bd7058",
   "metadata": {
    "scrolled": true
   },
   "outputs": [
    {
     "data": {
      "application/vnd.plotly.v1+json": {
       "config": {
        "plotlyServerURL": "https://plot.ly"
       },
       "data": [
        {
         "customdata": [
          [
           0.2,
           1.4
          ],
          [
           0.2,
           1.4
          ],
          [
           0.2,
           1.3
          ],
          [
           0.2,
           1.5
          ],
          [
           0.2,
           1.4
          ],
          [
           0.2,
           1.5
          ],
          [
           0.2,
           1.4
          ],
          [
           0.2,
           1.5
          ],
          [
           0.2,
           1.6
          ],
          [
           0.2,
           1.2
          ],
          [
           0.2,
           1.7
          ],
          [
           0.2,
           1
          ],
          [
           0.2,
           1.9
          ],
          [
           0.2,
           1.6
          ],
          [
           0.2,
           1.5
          ],
          [
           0.2,
           1.4
          ],
          [
           0.2,
           1.6
          ],
          [
           0.2,
           1.6
          ],
          [
           0.2,
           1.4
          ],
          [
           0.2,
           1.2
          ],
          [
           0.2,
           1.3
          ],
          [
           0.2,
           1.3
          ],
          [
           0.2,
           1.5
          ],
          [
           0.2,
           1.3
          ],
          [
           0.2,
           1.6
          ],
          [
           0.2,
           1.4
          ],
          [
           0.2,
           1.5
          ],
          [
           0.2,
           1.4
          ]
         ],
         "hovertemplate": "species=setosa<br>petal_width=%{customdata[0]}<br>sepal_width=%{x}<br>sepal_length=%{y}<br>petal_length=%{customdata[1]}<extra></extra>",
         "legendgroup": "setosa",
         "marker": {
          "color": "#636efa",
          "opacity": 0.7,
          "size": [
           1.4,
           1.4,
           1.3,
           1.5,
           1.4,
           1.5,
           1.4,
           1.5,
           1.6,
           1.2,
           1.7,
           1,
           1.9,
           1.6,
           1.5,
           1.4,
           1.6,
           1.6,
           1.4,
           1.2,
           1.3,
           1.3,
           1.5,
           1.3,
           1.6,
           1.4,
           1.5,
           1.4
          ],
          "sizemode": "area",
          "sizeref": 0.01725,
          "symbol": "circle"
         },
         "mode": "markers",
         "name": "setosa",
         "orientation": "v",
         "showlegend": true,
         "type": "scatter",
         "x": [
          3.5,
          3,
          3.2,
          3.1,
          3.6,
          3.4,
          2.9,
          3.7,
          3.4,
          4,
          3.4,
          3.6,
          3.4,
          3,
          3.5,
          3.4,
          3.2,
          3.1,
          4.2,
          3.2,
          3.5,
          3,
          3.4,
          3.2,
          3.8,
          3.2,
          3.7,
          3.3
         ],
         "xaxis": "x",
         "y": [
          5.1,
          4.9,
          4.7,
          4.6,
          5,
          5,
          4.4,
          5.4,
          4.8,
          5.8,
          5.4,
          4.6,
          4.8,
          5,
          5.2,
          5.2,
          4.7,
          4.8,
          5.5,
          5,
          5.5,
          4.4,
          5.1,
          4.4,
          5.1,
          4.6,
          5.3,
          5
         ],
         "yaxis": "y"
        }
       ],
       "frames": [
        {
         "data": [
          {
           "customdata": [
            [
             0.2,
             1.4
            ],
            [
             0.2,
             1.4
            ],
            [
             0.2,
             1.3
            ],
            [
             0.2,
             1.5
            ],
            [
             0.2,
             1.4
            ],
            [
             0.2,
             1.5
            ],
            [
             0.2,
             1.4
            ],
            [
             0.2,
             1.5
            ],
            [
             0.2,
             1.6
            ],
            [
             0.2,
             1.2
            ],
            [
             0.2,
             1.7
            ],
            [
             0.2,
             1
            ],
            [
             0.2,
             1.9
            ],
            [
             0.2,
             1.6
            ],
            [
             0.2,
             1.5
            ],
            [
             0.2,
             1.4
            ],
            [
             0.2,
             1.6
            ],
            [
             0.2,
             1.6
            ],
            [
             0.2,
             1.4
            ],
            [
             0.2,
             1.2
            ],
            [
             0.2,
             1.3
            ],
            [
             0.2,
             1.3
            ],
            [
             0.2,
             1.5
            ],
            [
             0.2,
             1.3
            ],
            [
             0.2,
             1.6
            ],
            [
             0.2,
             1.4
            ],
            [
             0.2,
             1.5
            ],
            [
             0.2,
             1.4
            ]
           ],
           "hovertemplate": "species=setosa<br>petal_width=%{customdata[0]}<br>sepal_width=%{x}<br>sepal_length=%{y}<br>petal_length=%{customdata[1]}<extra></extra>",
           "legendgroup": "setosa",
           "marker": {
            "color": "#636efa",
            "opacity": 0.7,
            "size": [
             1.4,
             1.4,
             1.3,
             1.5,
             1.4,
             1.5,
             1.4,
             1.5,
             1.6,
             1.2,
             1.7,
             1,
             1.9,
             1.6,
             1.5,
             1.4,
             1.6,
             1.6,
             1.4,
             1.2,
             1.3,
             1.3,
             1.5,
             1.3,
             1.6,
             1.4,
             1.5,
             1.4
            ],
            "sizemode": "area",
            "sizeref": 0.01725,
            "symbol": "circle"
           },
           "mode": "markers",
           "name": "setosa",
           "orientation": "v",
           "showlegend": true,
           "type": "scatter",
           "x": [
            3.5,
            3,
            3.2,
            3.1,
            3.6,
            3.4,
            2.9,
            3.7,
            3.4,
            4,
            3.4,
            3.6,
            3.4,
            3,
            3.5,
            3.4,
            3.2,
            3.1,
            4.2,
            3.2,
            3.5,
            3,
            3.4,
            3.2,
            3.8,
            3.2,
            3.7,
            3.3
           ],
           "xaxis": "x",
           "y": [
            5.1,
            4.9,
            4.7,
            4.6,
            5,
            5,
            4.4,
            5.4,
            4.8,
            5.8,
            5.4,
            4.6,
            4.8,
            5,
            5.2,
            5.2,
            4.7,
            4.8,
            5.5,
            5,
            5.5,
            4.4,
            5.1,
            4.4,
            5.1,
            4.6,
            5.3,
            5
           ],
           "yaxis": "y"
          }
         ],
         "name": "0.2"
        },
        {
         "data": [
          {
           "customdata": [
            [
             0.4,
             1.7
            ],
            [
             0.4,
             1.5
            ],
            [
             0.4,
             1.3
            ],
            [
             0.4,
             1.5
            ],
            [
             0.4,
             1.6
            ],
            [
             0.4,
             1.5
            ],
            [
             0.4,
             1.9
            ]
           ],
           "hovertemplate": "species=setosa<br>petal_width=%{customdata[0]}<br>sepal_width=%{x}<br>sepal_length=%{y}<br>petal_length=%{customdata[1]}<extra></extra>",
           "legendgroup": "setosa",
           "marker": {
            "color": "#636efa",
            "opacity": 0.7,
            "size": [
             1.7,
             1.5,
             1.3,
             1.5,
             1.6,
             1.5,
             1.9
            ],
            "sizemode": "area",
            "sizeref": 0.01725,
            "symbol": "circle"
           },
           "mode": "markers",
           "name": "setosa",
           "orientation": "v",
           "showlegend": true,
           "type": "scatter",
           "x": [
            3.9,
            4.4,
            3.9,
            3.7,
            3.4,
            3.4,
            3.8
           ],
           "xaxis": "x",
           "y": [
            5.4,
            5.7,
            5.4,
            5.1,
            5,
            5.4,
            5.1
           ],
           "yaxis": "y"
          }
         ],
         "name": "0.4"
        },
        {
         "data": [
          {
           "customdata": [
            [
             0.3,
             1.4
            ],
            [
             0.3,
             1.4
            ],
            [
             0.3,
             1.7
            ],
            [
             0.3,
             1.5
            ],
            [
             0.3,
             1.3
            ],
            [
             0.3,
             1.3
            ],
            [
             0.3,
             1.4
            ]
           ],
           "hovertemplate": "species=setosa<br>petal_width=%{customdata[0]}<br>sepal_width=%{x}<br>sepal_length=%{y}<br>petal_length=%{customdata[1]}<extra></extra>",
           "legendgroup": "setosa",
           "marker": {
            "color": "#636efa",
            "opacity": 0.7,
            "size": [
             1.4,
             1.4,
             1.7,
             1.5,
             1.3,
             1.3,
             1.4
            ],
            "sizemode": "area",
            "sizeref": 0.01725,
            "symbol": "circle"
           },
           "mode": "markers",
           "name": "setosa",
           "orientation": "v",
           "showlegend": true,
           "type": "scatter",
           "x": [
            3.4,
            3.5,
            3.8,
            3.8,
            3.5,
            2.3,
            3
           ],
           "xaxis": "x",
           "y": [
            4.6,
            5.1,
            5.7,
            5.1,
            5,
            4.5,
            4.8
           ],
           "yaxis": "y"
          }
         ],
         "name": "0.3"
        },
        {
         "data": [
          {
           "customdata": [
            [
             0.1,
             1.5
            ],
            [
             0.1,
             1.4
            ],
            [
             0.1,
             1.1
            ],
            [
             0.1,
             1.5
            ],
            [
             0.1,
             1.5
            ],
            [
             0.1,
             1.5
            ]
           ],
           "hovertemplate": "species=setosa<br>petal_width=%{customdata[0]}<br>sepal_width=%{x}<br>sepal_length=%{y}<br>petal_length=%{customdata[1]}<extra></extra>",
           "legendgroup": "setosa",
           "marker": {
            "color": "#636efa",
            "opacity": 0.7,
            "size": [
             1.5,
             1.4,
             1.1,
             1.5,
             1.5,
             1.5
            ],
            "sizemode": "area",
            "sizeref": 0.01725,
            "symbol": "circle"
           },
           "mode": "markers",
           "name": "setosa",
           "orientation": "v",
           "showlegend": true,
           "type": "scatter",
           "x": [
            3.1,
            3,
            3,
            4.1,
            3.1,
            3.1
           ],
           "xaxis": "x",
           "y": [
            4.9,
            4.8,
            4.3,
            5.2,
            4.9,
            4.9
           ],
           "yaxis": "y"
          }
         ],
         "name": "0.1"
        },
        {
         "data": [
          {
           "customdata": [
            [
             0.5,
             1.7
            ]
           ],
           "hovertemplate": "species=setosa<br>petal_width=%{customdata[0]}<br>sepal_width=%{x}<br>sepal_length=%{y}<br>petal_length=%{customdata[1]}<extra></extra>",
           "legendgroup": "setosa",
           "marker": {
            "color": "#636efa",
            "opacity": 0.7,
            "size": [
             1.7
            ],
            "sizemode": "area",
            "sizeref": 0.01725,
            "symbol": "circle"
           },
           "mode": "markers",
           "name": "setosa",
           "orientation": "v",
           "showlegend": true,
           "type": "scatter",
           "x": [
            3.3
           ],
           "xaxis": "x",
           "y": [
            5.1
           ],
           "yaxis": "y"
          }
         ],
         "name": "0.5"
        },
        {
         "data": [
          {
           "customdata": [
            [
             0.6,
             1.6
            ]
           ],
           "hovertemplate": "species=setosa<br>petal_width=%{customdata[0]}<br>sepal_width=%{x}<br>sepal_length=%{y}<br>petal_length=%{customdata[1]}<extra></extra>",
           "legendgroup": "setosa",
           "marker": {
            "color": "#636efa",
            "opacity": 0.7,
            "size": [
             1.6
            ],
            "sizemode": "area",
            "sizeref": 0.01725,
            "symbol": "circle"
           },
           "mode": "markers",
           "name": "setosa",
           "orientation": "v",
           "showlegend": true,
           "type": "scatter",
           "x": [
            3.5
           ],
           "xaxis": "x",
           "y": [
            5
           ],
           "yaxis": "y"
          }
         ],
         "name": "0.6"
        },
        {
         "data": [
          {
           "customdata": [
            [
             1.4,
             4.7
            ],
            [
             1.4,
             3.9
            ],
            [
             1.4,
             4.7
            ],
            [
             1.4,
             4.4
            ],
            [
             1.4,
             4.4
            ],
            [
             1.4,
             4.8
            ],
            [
             1.4,
             4.6
            ]
           ],
           "hovertemplate": "species=versicolor<br>petal_width=%{customdata[0]}<br>sepal_width=%{x}<br>sepal_length=%{y}<br>petal_length=%{customdata[1]}<extra></extra>",
           "legendgroup": "versicolor",
           "marker": {
            "color": "#EF553B",
            "opacity": 0.7,
            "size": [
             4.7,
             3.9,
             4.7,
             4.4,
             4.4,
             4.8,
             4.6
            ],
            "sizemode": "area",
            "sizeref": 0.01725,
            "symbol": "circle"
           },
           "mode": "markers",
           "name": "versicolor",
           "orientation": "v",
           "showlegend": true,
           "type": "scatter",
           "x": [
            3.2,
            2.7,
            2.9,
            3.1,
            3,
            2.8,
            3
           ],
           "xaxis": "x",
           "y": [
            7,
            5.2,
            6.1,
            6.7,
            6.6,
            6.8,
            6.1
           ],
           "yaxis": "y"
          },
          {
           "customdata": [
            [
             1.4,
             5.6
            ]
           ],
           "hovertemplate": "species=virginica<br>petal_width=%{customdata[0]}<br>sepal_width=%{x}<br>sepal_length=%{y}<br>petal_length=%{customdata[1]}<extra></extra>",
           "legendgroup": "virginica",
           "marker": {
            "color": "#00cc96",
            "opacity": 0.7,
            "size": [
             5.6
            ],
            "sizemode": "area",
            "sizeref": 0.01725,
            "symbol": "circle"
           },
           "mode": "markers",
           "name": "virginica",
           "orientation": "v",
           "showlegend": true,
           "type": "scatter",
           "x": [
            2.6
           ],
           "xaxis": "x",
           "y": [
            6.1
           ],
           "yaxis": "y"
          }
         ],
         "name": "1.4"
        },
        {
         "data": [
          {
           "customdata": [
            [
             1.5,
             4.5
            ],
            [
             1.5,
             4.9
            ],
            [
             1.5,
             4.6
            ],
            [
             1.5,
             4.2
            ],
            [
             1.5,
             4.5
            ],
            [
             1.5,
             4.5
            ],
            [
             1.5,
             4.9
            ],
            [
             1.5,
             4.5
            ],
            [
             1.5,
             4.5
            ],
            [
             1.5,
             4.7
            ]
           ],
           "hovertemplate": "species=versicolor<br>petal_width=%{customdata[0]}<br>sepal_width=%{x}<br>sepal_length=%{y}<br>petal_length=%{customdata[1]}<extra></extra>",
           "legendgroup": "versicolor",
           "marker": {
            "color": "#EF553B",
            "opacity": 0.7,
            "size": [
             4.5,
             4.9,
             4.6,
             4.2,
             4.5,
             4.5,
             4.9,
             4.5,
             4.5,
             4.7
            ],
            "sizemode": "area",
            "sizeref": 0.01725,
            "symbol": "circle"
           },
           "mode": "markers",
           "name": "versicolor",
           "orientation": "v",
           "showlegend": true,
           "type": "scatter",
           "x": [
            3.2,
            3.1,
            2.8,
            3,
            3,
            2.2,
            2.5,
            2.9,
            3,
            3.1
           ],
           "xaxis": "x",
           "y": [
            6.4,
            6.9,
            6.5,
            5.9,
            5.6,
            6.2,
            6.3,
            6,
            5.4,
            6.7
           ],
           "yaxis": "y"
          },
          {
           "customdata": [
            [
             1.5,
             5
            ],
            [
             1.5,
             5.1
            ]
           ],
           "hovertemplate": "species=virginica<br>petal_width=%{customdata[0]}<br>sepal_width=%{x}<br>sepal_length=%{y}<br>petal_length=%{customdata[1]}<extra></extra>",
           "legendgroup": "virginica",
           "marker": {
            "color": "#00cc96",
            "opacity": 0.7,
            "size": [
             5,
             5.1
            ],
            "sizemode": "area",
            "sizeref": 0.01725,
            "symbol": "circle"
           },
           "mode": "markers",
           "name": "virginica",
           "orientation": "v",
           "showlegend": true,
           "type": "scatter",
           "x": [
            2.2,
            2.8
           ],
           "xaxis": "x",
           "y": [
            6,
            6.3
           ],
           "yaxis": "y"
          }
         ],
         "name": "1.5"
        },
        {
         "data": [
          {
           "customdata": [
            [
             1.3,
             4
            ],
            [
             1.3,
             4.5
            ],
            [
             1.3,
             4.6
            ],
            [
             1.3,
             3.6
            ],
            [
             1.3,
             4
            ],
            [
             1.3,
             4.3
            ],
            [
             1.3,
             4.4
            ],
            [
             1.3,
             4.1
            ],
            [
             1.3,
             4
            ],
            [
             1.3,
             4.2
            ],
            [
             1.3,
             4.2
            ],
            [
             1.3,
             4.3
            ],
            [
             1.3,
             4.1
            ]
           ],
           "hovertemplate": "species=versicolor<br>petal_width=%{customdata[0]}<br>sepal_width=%{x}<br>sepal_length=%{y}<br>petal_length=%{customdata[1]}<extra></extra>",
           "legendgroup": "versicolor",
           "marker": {
            "color": "#EF553B",
            "opacity": 0.7,
            "size": [
             4,
             4.5,
             4.6,
             3.6,
             4,
             4.3,
             4.4,
             4.1,
             4,
             4.2,
             4.2,
             4.3,
             4.1
            ],
            "sizemode": "area",
            "sizeref": 0.01725,
            "symbol": "circle"
           },
           "mode": "markers",
           "name": "versicolor",
           "orientation": "v",
           "showlegend": true,
           "type": "scatter",
           "x": [
            2.3,
            2.8,
            2.9,
            2.9,
            2.8,
            2.9,
            2.3,
            3,
            2.5,
            2.7,
            2.9,
            2.9,
            2.8
           ],
           "xaxis": "x",
           "y": [
            5.5,
            5.7,
            6.6,
            5.6,
            6.1,
            6.4,
            6.3,
            5.6,
            5.5,
            5.6,
            5.7,
            6.2,
            5.7
           ],
           "yaxis": "y"
          }
         ],
         "name": "1.3"
        },
        {
         "data": [
          {
           "customdata": [
            [
             1.6,
             4.7
            ],
            [
             1.6,
             5.1
            ],
            [
             1.6,
             4.5
            ]
           ],
           "hovertemplate": "species=versicolor<br>petal_width=%{customdata[0]}<br>sepal_width=%{x}<br>sepal_length=%{y}<br>petal_length=%{customdata[1]}<extra></extra>",
           "legendgroup": "versicolor",
           "marker": {
            "color": "#EF553B",
            "opacity": 0.7,
            "size": [
             4.7,
             5.1,
             4.5
            ],
            "sizemode": "area",
            "sizeref": 0.01725,
            "symbol": "circle"
           },
           "mode": "markers",
           "name": "versicolor",
           "orientation": "v",
           "showlegend": true,
           "type": "scatter",
           "x": [
            3.3,
            2.7,
            3.4
           ],
           "xaxis": "x",
           "y": [
            6.3,
            6,
            6
           ],
           "yaxis": "y"
          },
          {
           "customdata": [
            [
             1.6,
             5.8
            ]
           ],
           "hovertemplate": "species=virginica<br>petal_width=%{customdata[0]}<br>sepal_width=%{x}<br>sepal_length=%{y}<br>petal_length=%{customdata[1]}<extra></extra>",
           "legendgroup": "virginica",
           "marker": {
            "color": "#00cc96",
            "opacity": 0.7,
            "size": [
             5.8
            ],
            "sizemode": "area",
            "sizeref": 0.01725,
            "symbol": "circle"
           },
           "mode": "markers",
           "name": "virginica",
           "orientation": "v",
           "showlegend": true,
           "type": "scatter",
           "x": [
            3
           ],
           "xaxis": "x",
           "y": [
            7.2
           ],
           "yaxis": "y"
          }
         ],
         "name": "1.6"
        },
        {
         "data": [
          {
           "customdata": [
            [
             1,
             3.3
            ],
            [
             1,
             3.5
            ],
            [
             1,
             4
            ],
            [
             1,
             4.1
            ],
            [
             1,
             3.5
            ],
            [
             1,
             3.7
            ],
            [
             1,
             3.3
            ]
           ],
           "hovertemplate": "species=versicolor<br>petal_width=%{customdata[0]}<br>sepal_width=%{x}<br>sepal_length=%{y}<br>petal_length=%{customdata[1]}<extra></extra>",
           "legendgroup": "versicolor",
           "marker": {
            "color": "#EF553B",
            "opacity": 0.7,
            "size": [
             3.3,
             3.5,
             4,
             4.1,
             3.5,
             3.7,
             3.3
            ],
            "sizemode": "area",
            "sizeref": 0.01725,
            "symbol": "circle"
           },
           "mode": "markers",
           "name": "versicolor",
           "orientation": "v",
           "showlegend": true,
           "type": "scatter",
           "x": [
            2.4,
            2,
            2.2,
            2.7,
            2.6,
            2.4,
            2.3
           ],
           "xaxis": "x",
           "y": [
            4.9,
            5,
            6,
            5.8,
            5.7,
            5.5,
            5
           ],
           "yaxis": "y"
          }
         ],
         "name": "1.0"
        },
        {
         "data": [
          {
           "customdata": [
            [
             1.1,
             3.9
            ],
            [
             1.1,
             3.8
            ],
            [
             1.1,
             3
            ]
           ],
           "hovertemplate": "species=versicolor<br>petal_width=%{customdata[0]}<br>sepal_width=%{x}<br>sepal_length=%{y}<br>petal_length=%{customdata[1]}<extra></extra>",
           "legendgroup": "versicolor",
           "marker": {
            "color": "#EF553B",
            "opacity": 0.7,
            "size": [
             3.9,
             3.8,
             3
            ],
            "sizemode": "area",
            "sizeref": 0.01725,
            "symbol": "circle"
           },
           "mode": "markers",
           "name": "versicolor",
           "orientation": "v",
           "showlegend": true,
           "type": "scatter",
           "x": [
            2.5,
            2.4,
            2.5
           ],
           "xaxis": "x",
           "y": [
            5.6,
            5.5,
            5.1
           ],
           "yaxis": "y"
          }
         ],
         "name": "1.1"
        },
        {
         "data": [
          {
           "customdata": [
            [
             1.8,
             4.8
            ]
           ],
           "hovertemplate": "species=versicolor<br>petal_width=%{customdata[0]}<br>sepal_width=%{x}<br>sepal_length=%{y}<br>petal_length=%{customdata[1]}<extra></extra>",
           "legendgroup": "versicolor",
           "marker": {
            "color": "#EF553B",
            "opacity": 0.7,
            "size": [
             4.8
            ],
            "sizemode": "area",
            "sizeref": 0.01725,
            "symbol": "circle"
           },
           "mode": "markers",
           "name": "versicolor",
           "orientation": "v",
           "showlegend": true,
           "type": "scatter",
           "x": [
            3.2
           ],
           "xaxis": "x",
           "y": [
            5.9
           ],
           "yaxis": "y"
          },
          {
           "customdata": [
            [
             1.8,
             5.6
            ],
            [
             1.8,
             6.3
            ],
            [
             1.8,
             5.8
            ],
            [
             1.8,
             5.5
            ],
            [
             1.8,
             4.9
            ],
            [
             1.8,
             6
            ],
            [
             1.8,
             4.8
            ],
            [
             1.8,
             4.9
            ],
            [
             1.8,
             5.5
            ],
            [
             1.8,
             4.8
            ],
            [
             1.8,
             5.1
            ]
           ],
           "hovertemplate": "species=virginica<br>petal_width=%{customdata[0]}<br>sepal_width=%{x}<br>sepal_length=%{y}<br>petal_length=%{customdata[1]}<extra></extra>",
           "legendgroup": "virginica",
           "marker": {
            "color": "#00cc96",
            "opacity": 0.7,
            "size": [
             5.6,
             6.3,
             5.8,
             5.5,
             4.9,
             6,
             4.8,
             4.9,
             5.5,
             4.8,
             5.1
            ],
            "sizemode": "area",
            "sizeref": 0.01725,
            "symbol": "circle"
           },
           "mode": "markers",
           "name": "virginica",
           "orientation": "v",
           "showlegend": true,
           "type": "scatter",
           "x": [
            2.9,
            2.9,
            2.5,
            3,
            2.7,
            3.2,
            2.8,
            3,
            3.1,
            3,
            3
           ],
           "xaxis": "x",
           "y": [
            6.3,
            7.3,
            6.7,
            6.5,
            6.3,
            7.2,
            6.2,
            6.1,
            6.4,
            6,
            5.9
           ],
           "yaxis": "y"
          }
         ],
         "name": "1.8"
        },
        {
         "data": [
          {
           "customdata": [
            [
             1.2,
             4.7
            ],
            [
             1.2,
             3.9
            ],
            [
             1.2,
             4.4
            ],
            [
             1.2,
             4
            ],
            [
             1.2,
             4.2
            ]
           ],
           "hovertemplate": "species=versicolor<br>petal_width=%{customdata[0]}<br>sepal_width=%{x}<br>sepal_length=%{y}<br>petal_length=%{customdata[1]}<extra></extra>",
           "legendgroup": "versicolor",
           "marker": {
            "color": "#EF553B",
            "opacity": 0.7,
            "size": [
             4.7,
             3.9,
             4.4,
             4,
             4.2
            ],
            "sizemode": "area",
            "sizeref": 0.01725,
            "symbol": "circle"
           },
           "mode": "markers",
           "name": "versicolor",
           "orientation": "v",
           "showlegend": true,
           "type": "scatter",
           "x": [
            2.8,
            2.7,
            2.6,
            2.6,
            3
           ],
           "xaxis": "x",
           "y": [
            6.1,
            5.8,
            5.5,
            5.8,
            5.7
           ],
           "yaxis": "y"
          }
         ],
         "name": "1.2"
        },
        {
         "data": [
          {
           "customdata": [
            [
             1.7,
             5
            ]
           ],
           "hovertemplate": "species=versicolor<br>petal_width=%{customdata[0]}<br>sepal_width=%{x}<br>sepal_length=%{y}<br>petal_length=%{customdata[1]}<extra></extra>",
           "legendgroup": "versicolor",
           "marker": {
            "color": "#EF553B",
            "opacity": 0.7,
            "size": [
             5
            ],
            "sizemode": "area",
            "sizeref": 0.01725,
            "symbol": "circle"
           },
           "mode": "markers",
           "name": "versicolor",
           "orientation": "v",
           "showlegend": true,
           "type": "scatter",
           "x": [
            3
           ],
           "xaxis": "x",
           "y": [
            6.7
           ],
           "yaxis": "y"
          },
          {
           "customdata": [
            [
             1.7,
             4.5
            ]
           ],
           "hovertemplate": "species=virginica<br>petal_width=%{customdata[0]}<br>sepal_width=%{x}<br>sepal_length=%{y}<br>petal_length=%{customdata[1]}<extra></extra>",
           "legendgroup": "virginica",
           "marker": {
            "color": "#00cc96",
            "opacity": 0.7,
            "size": [
             4.5
            ],
            "sizemode": "area",
            "sizeref": 0.01725,
            "symbol": "circle"
           },
           "mode": "markers",
           "name": "virginica",
           "orientation": "v",
           "showlegend": true,
           "type": "scatter",
           "x": [
            2.5
           ],
           "xaxis": "x",
           "y": [
            4.9
           ],
           "yaxis": "y"
          }
         ],
         "name": "1.7"
        },
        {
         "data": [
          {
           "customdata": [
            [
             2.5,
             6
            ],
            [
             2.5,
             6.1
            ],
            [
             2.5,
             5.7
            ]
           ],
           "hovertemplate": "species=virginica<br>petal_width=%{customdata[0]}<br>sepal_width=%{x}<br>sepal_length=%{y}<br>petal_length=%{customdata[1]}<extra></extra>",
           "legendgroup": "virginica",
           "marker": {
            "color": "#00cc96",
            "opacity": 0.7,
            "size": [
             6,
             6.1,
             5.7
            ],
            "sizemode": "area",
            "sizeref": 0.01725,
            "symbol": "circle"
           },
           "mode": "markers",
           "name": "virginica",
           "orientation": "v",
           "showlegend": true,
           "type": "scatter",
           "x": [
            3.3,
            3.6,
            3.3
           ],
           "xaxis": "x",
           "y": [
            6.3,
            7.2,
            6.7
           ],
           "yaxis": "y"
          }
         ],
         "name": "2.5"
        },
        {
         "data": [
          {
           "customdata": [
            [
             1.9,
             5.1
            ],
            [
             1.9,
             5.3
            ],
            [
             1.9,
             6.1
            ],
            [
             1.9,
             5.1
            ],
            [
             1.9,
             5
            ]
           ],
           "hovertemplate": "species=virginica<br>petal_width=%{customdata[0]}<br>sepal_width=%{x}<br>sepal_length=%{y}<br>petal_length=%{customdata[1]}<extra></extra>",
           "legendgroup": "virginica",
           "marker": {
            "color": "#00cc96",
            "opacity": 0.7,
            "size": [
             5.1,
             5.3,
             6.1,
             5.1,
             5
            ],
            "sizemode": "area",
            "sizeref": 0.01725,
            "symbol": "circle"
           },
           "mode": "markers",
           "name": "virginica",
           "orientation": "v",
           "showlegend": true,
           "type": "scatter",
           "x": [
            2.7,
            2.7,
            2.8,
            2.7,
            2.5
           ],
           "xaxis": "x",
           "y": [
            5.8,
            6.4,
            7.4,
            5.8,
            6.3
           ],
           "yaxis": "y"
          }
         ],
         "name": "1.9"
        },
        {
         "data": [
          {
           "customdata": [
            [
             2.1,
             5.9
            ],
            [
             2.1,
             6.6
            ],
            [
             2.1,
             5.5
            ],
            [
             2.1,
             5.7
            ],
            [
             2.1,
             5.6
            ],
            [
             2.1,
             5.4
            ]
           ],
           "hovertemplate": "species=virginica<br>petal_width=%{customdata[0]}<br>sepal_width=%{x}<br>sepal_length=%{y}<br>petal_length=%{customdata[1]}<extra></extra>",
           "legendgroup": "virginica",
           "marker": {
            "color": "#00cc96",
            "opacity": 0.7,
            "size": [
             5.9,
             6.6,
             5.5,
             5.7,
             5.6,
             5.4
            ],
            "sizemode": "area",
            "sizeref": 0.01725,
            "symbol": "circle"
           },
           "mode": "markers",
           "name": "virginica",
           "orientation": "v",
           "showlegend": true,
           "type": "scatter",
           "x": [
            3,
            3,
            3,
            3.3,
            2.8,
            3.1
           ],
           "xaxis": "x",
           "y": [
            7.1,
            7.6,
            6.8,
            6.7,
            6.4,
            6.9
           ],
           "yaxis": "y"
          }
         ],
         "name": "2.1"
        },
        {
         "data": [
          {
           "customdata": [
            [
             2.2,
             5.8
            ],
            [
             2.2,
             6.7
            ],
            [
             2.2,
             5.6
            ]
           ],
           "hovertemplate": "species=virginica<br>petal_width=%{customdata[0]}<br>sepal_width=%{x}<br>sepal_length=%{y}<br>petal_length=%{customdata[1]}<extra></extra>",
           "legendgroup": "virginica",
           "marker": {
            "color": "#00cc96",
            "opacity": 0.7,
            "size": [
             5.8,
             6.7,
             5.6
            ],
            "sizemode": "area",
            "sizeref": 0.01725,
            "symbol": "circle"
           },
           "mode": "markers",
           "name": "virginica",
           "orientation": "v",
           "showlegend": true,
           "type": "scatter",
           "x": [
            3,
            3.8,
            2.8
           ],
           "xaxis": "x",
           "y": [
            6.5,
            7.7,
            6.4
           ],
           "yaxis": "y"
          }
         ],
         "name": "2.2"
        },
        {
         "data": [
          {
           "customdata": [
            [
             2,
             5.1
            ],
            [
             2,
             5
            ],
            [
             2,
             4.9
            ],
            [
             2,
             6.7
            ],
            [
             2,
             6.4
            ],
            [
             2,
             5.2
            ]
           ],
           "hovertemplate": "species=virginica<br>petal_width=%{customdata[0]}<br>sepal_width=%{x}<br>sepal_length=%{y}<br>petal_length=%{customdata[1]}<extra></extra>",
           "legendgroup": "virginica",
           "marker": {
            "color": "#00cc96",
            "opacity": 0.7,
            "size": [
             5.1,
             5,
             4.9,
             6.7,
             6.4,
             5.2
            ],
            "sizemode": "area",
            "sizeref": 0.01725,
            "symbol": "circle"
           },
           "mode": "markers",
           "name": "virginica",
           "orientation": "v",
           "showlegend": true,
           "type": "scatter",
           "x": [
            3.2,
            2.5,
            2.8,
            2.8,
            3.8,
            3
           ],
           "xaxis": "x",
           "y": [
            6.5,
            5.7,
            5.6,
            7.7,
            7.9,
            6.5
           ],
           "yaxis": "y"
          }
         ],
         "name": "2.0"
        },
        {
         "data": [
          {
           "customdata": [
            [
             2.4,
             5.1
            ],
            [
             2.4,
             5.6
            ],
            [
             2.4,
             5.6
            ]
           ],
           "hovertemplate": "species=virginica<br>petal_width=%{customdata[0]}<br>sepal_width=%{x}<br>sepal_length=%{y}<br>petal_length=%{customdata[1]}<extra></extra>",
           "legendgroup": "virginica",
           "marker": {
            "color": "#00cc96",
            "opacity": 0.7,
            "size": [
             5.1,
             5.6,
             5.6
            ],
            "sizemode": "area",
            "sizeref": 0.01725,
            "symbol": "circle"
           },
           "mode": "markers",
           "name": "virginica",
           "orientation": "v",
           "showlegend": true,
           "type": "scatter",
           "x": [
            2.8,
            3.4,
            3.1
           ],
           "xaxis": "x",
           "y": [
            5.8,
            6.3,
            6.7
           ],
           "yaxis": "y"
          }
         ],
         "name": "2.4"
        },
        {
         "data": [
          {
           "customdata": [
            [
             2.3,
             5.3
            ],
            [
             2.3,
             6.9
            ],
            [
             2.3,
             5.7
            ],
            [
             2.3,
             6.1
            ],
            [
             2.3,
             5.1
            ],
            [
             2.3,
             5.9
            ],
            [
             2.3,
             5.2
            ],
            [
             2.3,
             5.4
            ]
           ],
           "hovertemplate": "species=virginica<br>petal_width=%{customdata[0]}<br>sepal_width=%{x}<br>sepal_length=%{y}<br>petal_length=%{customdata[1]}<extra></extra>",
           "legendgroup": "virginica",
           "marker": {
            "color": "#00cc96",
            "opacity": 0.7,
            "size": [
             5.3,
             6.9,
             5.7,
             6.1,
             5.1,
             5.9,
             5.2,
             5.4
            ],
            "sizemode": "area",
            "sizeref": 0.01725,
            "symbol": "circle"
           },
           "mode": "markers",
           "name": "virginica",
           "orientation": "v",
           "showlegend": true,
           "type": "scatter",
           "x": [
            3.2,
            2.6,
            3.2,
            3,
            3.1,
            3.2,
            3,
            3.4
           ],
           "xaxis": "x",
           "y": [
            6.4,
            7.7,
            6.9,
            7.7,
            6.9,
            6.8,
            6.7,
            6.2
           ],
           "yaxis": "y"
          }
         ],
         "name": "2.3"
        }
       ],
       "layout": {
        "autosize": true,
        "legend": {
         "itemsizing": "constant",
         "title": {
          "text": "species"
         },
         "tracegroupgap": 0
        },
        "sliders": [
         {
          "active": 0,
          "currentvalue": {
           "prefix": "petal_width="
          },
          "len": 0.9,
          "pad": {
           "b": 10,
           "t": 60
          },
          "steps": [
           {
            "args": [
             [
              "0.2"
             ],
             {
              "frame": {
               "duration": 0,
               "redraw": false
              },
              "fromcurrent": true,
              "mode": "immediate",
              "transition": {
               "duration": 0,
               "easing": "linear"
              }
             }
            ],
            "label": "0.2",
            "method": "animate"
           },
           {
            "args": [
             [
              "0.4"
             ],
             {
              "frame": {
               "duration": 0,
               "redraw": false
              },
              "fromcurrent": true,
              "mode": "immediate",
              "transition": {
               "duration": 0,
               "easing": "linear"
              }
             }
            ],
            "label": "0.4",
            "method": "animate"
           },
           {
            "args": [
             [
              "0.3"
             ],
             {
              "frame": {
               "duration": 0,
               "redraw": false
              },
              "fromcurrent": true,
              "mode": "immediate",
              "transition": {
               "duration": 0,
               "easing": "linear"
              }
             }
            ],
            "label": "0.3",
            "method": "animate"
           },
           {
            "args": [
             [
              "0.1"
             ],
             {
              "frame": {
               "duration": 0,
               "redraw": false
              },
              "fromcurrent": true,
              "mode": "immediate",
              "transition": {
               "duration": 0,
               "easing": "linear"
              }
             }
            ],
            "label": "0.1",
            "method": "animate"
           },
           {
            "args": [
             [
              "0.5"
             ],
             {
              "frame": {
               "duration": 0,
               "redraw": false
              },
              "fromcurrent": true,
              "mode": "immediate",
              "transition": {
               "duration": 0,
               "easing": "linear"
              }
             }
            ],
            "label": "0.5",
            "method": "animate"
           },
           {
            "args": [
             [
              "0.6"
             ],
             {
              "frame": {
               "duration": 0,
               "redraw": false
              },
              "fromcurrent": true,
              "mode": "immediate",
              "transition": {
               "duration": 0,
               "easing": "linear"
              }
             }
            ],
            "label": "0.6",
            "method": "animate"
           },
           {
            "args": [
             [
              "1.4"
             ],
             {
              "frame": {
               "duration": 0,
               "redraw": false
              },
              "fromcurrent": true,
              "mode": "immediate",
              "transition": {
               "duration": 0,
               "easing": "linear"
              }
             }
            ],
            "label": "1.4",
            "method": "animate"
           },
           {
            "args": [
             [
              "1.5"
             ],
             {
              "frame": {
               "duration": 0,
               "redraw": false
              },
              "fromcurrent": true,
              "mode": "immediate",
              "transition": {
               "duration": 0,
               "easing": "linear"
              }
             }
            ],
            "label": "1.5",
            "method": "animate"
           },
           {
            "args": [
             [
              "1.3"
             ],
             {
              "frame": {
               "duration": 0,
               "redraw": false
              },
              "fromcurrent": true,
              "mode": "immediate",
              "transition": {
               "duration": 0,
               "easing": "linear"
              }
             }
            ],
            "label": "1.3",
            "method": "animate"
           },
           {
            "args": [
             [
              "1.6"
             ],
             {
              "frame": {
               "duration": 0,
               "redraw": false
              },
              "fromcurrent": true,
              "mode": "immediate",
              "transition": {
               "duration": 0,
               "easing": "linear"
              }
             }
            ],
            "label": "1.6",
            "method": "animate"
           },
           {
            "args": [
             [
              "1.0"
             ],
             {
              "frame": {
               "duration": 0,
               "redraw": false
              },
              "fromcurrent": true,
              "mode": "immediate",
              "transition": {
               "duration": 0,
               "easing": "linear"
              }
             }
            ],
            "label": "1.0",
            "method": "animate"
           },
           {
            "args": [
             [
              "1.1"
             ],
             {
              "frame": {
               "duration": 0,
               "redraw": false
              },
              "fromcurrent": true,
              "mode": "immediate",
              "transition": {
               "duration": 0,
               "easing": "linear"
              }
             }
            ],
            "label": "1.1",
            "method": "animate"
           },
           {
            "args": [
             [
              "1.8"
             ],
             {
              "frame": {
               "duration": 0,
               "redraw": false
              },
              "fromcurrent": true,
              "mode": "immediate",
              "transition": {
               "duration": 0,
               "easing": "linear"
              }
             }
            ],
            "label": "1.8",
            "method": "animate"
           },
           {
            "args": [
             [
              "1.2"
             ],
             {
              "frame": {
               "duration": 0,
               "redraw": false
              },
              "fromcurrent": true,
              "mode": "immediate",
              "transition": {
               "duration": 0,
               "easing": "linear"
              }
             }
            ],
            "label": "1.2",
            "method": "animate"
           },
           {
            "args": [
             [
              "1.7"
             ],
             {
              "frame": {
               "duration": 0,
               "redraw": false
              },
              "fromcurrent": true,
              "mode": "immediate",
              "transition": {
               "duration": 0,
               "easing": "linear"
              }
             }
            ],
            "label": "1.7",
            "method": "animate"
           },
           {
            "args": [
             [
              "2.5"
             ],
             {
              "frame": {
               "duration": 0,
               "redraw": false
              },
              "fromcurrent": true,
              "mode": "immediate",
              "transition": {
               "duration": 0,
               "easing": "linear"
              }
             }
            ],
            "label": "2.5",
            "method": "animate"
           },
           {
            "args": [
             [
              "1.9"
             ],
             {
              "frame": {
               "duration": 0,
               "redraw": false
              },
              "fromcurrent": true,
              "mode": "immediate",
              "transition": {
               "duration": 0,
               "easing": "linear"
              }
             }
            ],
            "label": "1.9",
            "method": "animate"
           },
           {
            "args": [
             [
              "2.1"
             ],
             {
              "frame": {
               "duration": 0,
               "redraw": false
              },
              "fromcurrent": true,
              "mode": "immediate",
              "transition": {
               "duration": 0,
               "easing": "linear"
              }
             }
            ],
            "label": "2.1",
            "method": "animate"
           },
           {
            "args": [
             [
              "2.2"
             ],
             {
              "frame": {
               "duration": 0,
               "redraw": false
              },
              "fromcurrent": true,
              "mode": "immediate",
              "transition": {
               "duration": 0,
               "easing": "linear"
              }
             }
            ],
            "label": "2.2",
            "method": "animate"
           },
           {
            "args": [
             [
              "2.0"
             ],
             {
              "frame": {
               "duration": 0,
               "redraw": false
              },
              "fromcurrent": true,
              "mode": "immediate",
              "transition": {
               "duration": 0,
               "easing": "linear"
              }
             }
            ],
            "label": "2.0",
            "method": "animate"
           },
           {
            "args": [
             [
              "2.4"
             ],
             {
              "frame": {
               "duration": 0,
               "redraw": false
              },
              "fromcurrent": true,
              "mode": "immediate",
              "transition": {
               "duration": 0,
               "easing": "linear"
              }
             }
            ],
            "label": "2.4",
            "method": "animate"
           },
           {
            "args": [
             [
              "2.3"
             ],
             {
              "frame": {
               "duration": 0,
               "redraw": false
              },
              "fromcurrent": true,
              "mode": "immediate",
              "transition": {
               "duration": 0,
               "easing": "linear"
              }
             }
            ],
            "label": "2.3",
            "method": "animate"
           }
          ],
          "x": 0.1,
          "xanchor": "left",
          "y": 0,
          "yanchor": "top"
         }
        ],
        "template": {
         "data": {
          "bar": [
           {
            "error_x": {
             "color": "#2a3f5f"
            },
            "error_y": {
             "color": "#2a3f5f"
            },
            "marker": {
             "line": {
              "color": "#E5ECF6",
              "width": 0.5
             },
             "pattern": {
              "fillmode": "overlay",
              "size": 10,
              "solidity": 0.2
             }
            },
            "type": "bar"
           }
          ],
          "barpolar": [
           {
            "marker": {
             "line": {
              "color": "#E5ECF6",
              "width": 0.5
             },
             "pattern": {
              "fillmode": "overlay",
              "size": 10,
              "solidity": 0.2
             }
            },
            "type": "barpolar"
           }
          ],
          "carpet": [
           {
            "aaxis": {
             "endlinecolor": "#2a3f5f",
             "gridcolor": "white",
             "linecolor": "white",
             "minorgridcolor": "white",
             "startlinecolor": "#2a3f5f"
            },
            "baxis": {
             "endlinecolor": "#2a3f5f",
             "gridcolor": "white",
             "linecolor": "white",
             "minorgridcolor": "white",
             "startlinecolor": "#2a3f5f"
            },
            "type": "carpet"
           }
          ],
          "choropleth": [
           {
            "colorbar": {
             "outlinewidth": 0,
             "ticks": ""
            },
            "type": "choropleth"
           }
          ],
          "contour": [
           {
            "colorbar": {
             "outlinewidth": 0,
             "ticks": ""
            },
            "colorscale": [
             [
              0,
              "#0d0887"
             ],
             [
              0.1111111111111111,
              "#46039f"
             ],
             [
              0.2222222222222222,
              "#7201a8"
             ],
             [
              0.3333333333333333,
              "#9c179e"
             ],
             [
              0.4444444444444444,
              "#bd3786"
             ],
             [
              0.5555555555555556,
              "#d8576b"
             ],
             [
              0.6666666666666666,
              "#ed7953"
             ],
             [
              0.7777777777777778,
              "#fb9f3a"
             ],
             [
              0.8888888888888888,
              "#fdca26"
             ],
             [
              1,
              "#f0f921"
             ]
            ],
            "type": "contour"
           }
          ],
          "contourcarpet": [
           {
            "colorbar": {
             "outlinewidth": 0,
             "ticks": ""
            },
            "type": "contourcarpet"
           }
          ],
          "heatmap": [
           {
            "colorbar": {
             "outlinewidth": 0,
             "ticks": ""
            },
            "colorscale": [
             [
              0,
              "#0d0887"
             ],
             [
              0.1111111111111111,
              "#46039f"
             ],
             [
              0.2222222222222222,
              "#7201a8"
             ],
             [
              0.3333333333333333,
              "#9c179e"
             ],
             [
              0.4444444444444444,
              "#bd3786"
             ],
             [
              0.5555555555555556,
              "#d8576b"
             ],
             [
              0.6666666666666666,
              "#ed7953"
             ],
             [
              0.7777777777777778,
              "#fb9f3a"
             ],
             [
              0.8888888888888888,
              "#fdca26"
             ],
             [
              1,
              "#f0f921"
             ]
            ],
            "type": "heatmap"
           }
          ],
          "heatmapgl": [
           {
            "colorbar": {
             "outlinewidth": 0,
             "ticks": ""
            },
            "colorscale": [
             [
              0,
              "#0d0887"
             ],
             [
              0.1111111111111111,
              "#46039f"
             ],
             [
              0.2222222222222222,
              "#7201a8"
             ],
             [
              0.3333333333333333,
              "#9c179e"
             ],
             [
              0.4444444444444444,
              "#bd3786"
             ],
             [
              0.5555555555555556,
              "#d8576b"
             ],
             [
              0.6666666666666666,
              "#ed7953"
             ],
             [
              0.7777777777777778,
              "#fb9f3a"
             ],
             [
              0.8888888888888888,
              "#fdca26"
             ],
             [
              1,
              "#f0f921"
             ]
            ],
            "type": "heatmapgl"
           }
          ],
          "histogram": [
           {
            "marker": {
             "pattern": {
              "fillmode": "overlay",
              "size": 10,
              "solidity": 0.2
             }
            },
            "type": "histogram"
           }
          ],
          "histogram2d": [
           {
            "colorbar": {
             "outlinewidth": 0,
             "ticks": ""
            },
            "colorscale": [
             [
              0,
              "#0d0887"
             ],
             [
              0.1111111111111111,
              "#46039f"
             ],
             [
              0.2222222222222222,
              "#7201a8"
             ],
             [
              0.3333333333333333,
              "#9c179e"
             ],
             [
              0.4444444444444444,
              "#bd3786"
             ],
             [
              0.5555555555555556,
              "#d8576b"
             ],
             [
              0.6666666666666666,
              "#ed7953"
             ],
             [
              0.7777777777777778,
              "#fb9f3a"
             ],
             [
              0.8888888888888888,
              "#fdca26"
             ],
             [
              1,
              "#f0f921"
             ]
            ],
            "type": "histogram2d"
           }
          ],
          "histogram2dcontour": [
           {
            "colorbar": {
             "outlinewidth": 0,
             "ticks": ""
            },
            "colorscale": [
             [
              0,
              "#0d0887"
             ],
             [
              0.1111111111111111,
              "#46039f"
             ],
             [
              0.2222222222222222,
              "#7201a8"
             ],
             [
              0.3333333333333333,
              "#9c179e"
             ],
             [
              0.4444444444444444,
              "#bd3786"
             ],
             [
              0.5555555555555556,
              "#d8576b"
             ],
             [
              0.6666666666666666,
              "#ed7953"
             ],
             [
              0.7777777777777778,
              "#fb9f3a"
             ],
             [
              0.8888888888888888,
              "#fdca26"
             ],
             [
              1,
              "#f0f921"
             ]
            ],
            "type": "histogram2dcontour"
           }
          ],
          "mesh3d": [
           {
            "colorbar": {
             "outlinewidth": 0,
             "ticks": ""
            },
            "type": "mesh3d"
           }
          ],
          "parcoords": [
           {
            "line": {
             "colorbar": {
              "outlinewidth": 0,
              "ticks": ""
             }
            },
            "type": "parcoords"
           }
          ],
          "pie": [
           {
            "automargin": true,
            "type": "pie"
           }
          ],
          "scatter": [
           {
            "fillpattern": {
             "fillmode": "overlay",
             "size": 10,
             "solidity": 0.2
            },
            "type": "scatter"
           }
          ],
          "scatter3d": [
           {
            "line": {
             "colorbar": {
              "outlinewidth": 0,
              "ticks": ""
             }
            },
            "marker": {
             "colorbar": {
              "outlinewidth": 0,
              "ticks": ""
             }
            },
            "type": "scatter3d"
           }
          ],
          "scattercarpet": [
           {
            "marker": {
             "colorbar": {
              "outlinewidth": 0,
              "ticks": ""
             }
            },
            "type": "scattercarpet"
           }
          ],
          "scattergeo": [
           {
            "marker": {
             "colorbar": {
              "outlinewidth": 0,
              "ticks": ""
             }
            },
            "type": "scattergeo"
           }
          ],
          "scattergl": [
           {
            "marker": {
             "colorbar": {
              "outlinewidth": 0,
              "ticks": ""
             }
            },
            "type": "scattergl"
           }
          ],
          "scattermapbox": [
           {
            "marker": {
             "colorbar": {
              "outlinewidth": 0,
              "ticks": ""
             }
            },
            "type": "scattermapbox"
           }
          ],
          "scatterpolar": [
           {
            "marker": {
             "colorbar": {
              "outlinewidth": 0,
              "ticks": ""
             }
            },
            "type": "scatterpolar"
           }
          ],
          "scatterpolargl": [
           {
            "marker": {
             "colorbar": {
              "outlinewidth": 0,
              "ticks": ""
             }
            },
            "type": "scatterpolargl"
           }
          ],
          "scatterternary": [
           {
            "marker": {
             "colorbar": {
              "outlinewidth": 0,
              "ticks": ""
             }
            },
            "type": "scatterternary"
           }
          ],
          "surface": [
           {
            "colorbar": {
             "outlinewidth": 0,
             "ticks": ""
            },
            "colorscale": [
             [
              0,
              "#0d0887"
             ],
             [
              0.1111111111111111,
              "#46039f"
             ],
             [
              0.2222222222222222,
              "#7201a8"
             ],
             [
              0.3333333333333333,
              "#9c179e"
             ],
             [
              0.4444444444444444,
              "#bd3786"
             ],
             [
              0.5555555555555556,
              "#d8576b"
             ],
             [
              0.6666666666666666,
              "#ed7953"
             ],
             [
              0.7777777777777778,
              "#fb9f3a"
             ],
             [
              0.8888888888888888,
              "#fdca26"
             ],
             [
              1,
              "#f0f921"
             ]
            ],
            "type": "surface"
           }
          ],
          "table": [
           {
            "cells": {
             "fill": {
              "color": "#EBF0F8"
             },
             "line": {
              "color": "white"
             }
            },
            "header": {
             "fill": {
              "color": "#C8D4E3"
             },
             "line": {
              "color": "white"
             }
            },
            "type": "table"
           }
          ]
         },
         "layout": {
          "annotationdefaults": {
           "arrowcolor": "#2a3f5f",
           "arrowhead": 0,
           "arrowwidth": 1
          },
          "autotypenumbers": "strict",
          "coloraxis": {
           "colorbar": {
            "outlinewidth": 0,
            "ticks": ""
           }
          },
          "colorscale": {
           "diverging": [
            [
             0,
             "#8e0152"
            ],
            [
             0.1,
             "#c51b7d"
            ],
            [
             0.2,
             "#de77ae"
            ],
            [
             0.3,
             "#f1b6da"
            ],
            [
             0.4,
             "#fde0ef"
            ],
            [
             0.5,
             "#f7f7f7"
            ],
            [
             0.6,
             "#e6f5d0"
            ],
            [
             0.7,
             "#b8e186"
            ],
            [
             0.8,
             "#7fbc41"
            ],
            [
             0.9,
             "#4d9221"
            ],
            [
             1,
             "#276419"
            ]
           ],
           "sequential": [
            [
             0,
             "#0d0887"
            ],
            [
             0.1111111111111111,
             "#46039f"
            ],
            [
             0.2222222222222222,
             "#7201a8"
            ],
            [
             0.3333333333333333,
             "#9c179e"
            ],
            [
             0.4444444444444444,
             "#bd3786"
            ],
            [
             0.5555555555555556,
             "#d8576b"
            ],
            [
             0.6666666666666666,
             "#ed7953"
            ],
            [
             0.7777777777777778,
             "#fb9f3a"
            ],
            [
             0.8888888888888888,
             "#fdca26"
            ],
            [
             1,
             "#f0f921"
            ]
           ],
           "sequentialminus": [
            [
             0,
             "#0d0887"
            ],
            [
             0.1111111111111111,
             "#46039f"
            ],
            [
             0.2222222222222222,
             "#7201a8"
            ],
            [
             0.3333333333333333,
             "#9c179e"
            ],
            [
             0.4444444444444444,
             "#bd3786"
            ],
            [
             0.5555555555555556,
             "#d8576b"
            ],
            [
             0.6666666666666666,
             "#ed7953"
            ],
            [
             0.7777777777777778,
             "#fb9f3a"
            ],
            [
             0.8888888888888888,
             "#fdca26"
            ],
            [
             1,
             "#f0f921"
            ]
           ]
          },
          "colorway": [
           "#636efa",
           "#EF553B",
           "#00cc96",
           "#ab63fa",
           "#FFA15A",
           "#19d3f3",
           "#FF6692",
           "#B6E880",
           "#FF97FF",
           "#FECB52"
          ],
          "font": {
           "color": "#2a3f5f"
          },
          "geo": {
           "bgcolor": "white",
           "lakecolor": "white",
           "landcolor": "#E5ECF6",
           "showlakes": true,
           "showland": true,
           "subunitcolor": "white"
          },
          "hoverlabel": {
           "align": "left"
          },
          "hovermode": "closest",
          "mapbox": {
           "style": "light"
          },
          "paper_bgcolor": "white",
          "plot_bgcolor": "#E5ECF6",
          "polar": {
           "angularaxis": {
            "gridcolor": "white",
            "linecolor": "white",
            "ticks": ""
           },
           "bgcolor": "#E5ECF6",
           "radialaxis": {
            "gridcolor": "white",
            "linecolor": "white",
            "ticks": ""
           }
          },
          "scene": {
           "xaxis": {
            "backgroundcolor": "#E5ECF6",
            "gridcolor": "white",
            "gridwidth": 2,
            "linecolor": "white",
            "showbackground": true,
            "ticks": "",
            "zerolinecolor": "white"
           },
           "yaxis": {
            "backgroundcolor": "#E5ECF6",
            "gridcolor": "white",
            "gridwidth": 2,
            "linecolor": "white",
            "showbackground": true,
            "ticks": "",
            "zerolinecolor": "white"
           },
           "zaxis": {
            "backgroundcolor": "#E5ECF6",
            "gridcolor": "white",
            "gridwidth": 2,
            "linecolor": "white",
            "showbackground": true,
            "ticks": "",
            "zerolinecolor": "white"
           }
          },
          "shapedefaults": {
           "line": {
            "color": "#2a3f5f"
           }
          },
          "ternary": {
           "aaxis": {
            "gridcolor": "white",
            "linecolor": "white",
            "ticks": ""
           },
           "baxis": {
            "gridcolor": "white",
            "linecolor": "white",
            "ticks": ""
           },
           "bgcolor": "#E5ECF6",
           "caxis": {
            "gridcolor": "white",
            "linecolor": "white",
            "ticks": ""
           }
          },
          "title": {
           "x": 0.05
          },
          "xaxis": {
           "automargin": true,
           "gridcolor": "white",
           "linecolor": "white",
           "ticks": "",
           "title": {
            "standoff": 15
           },
           "zerolinecolor": "white",
           "zerolinewidth": 2
          },
          "yaxis": {
           "automargin": true,
           "gridcolor": "white",
           "linecolor": "white",
           "ticks": "",
           "title": {
            "standoff": 15
           },
           "zerolinecolor": "white",
           "zerolinewidth": 2
          }
         }
        },
        "title": {
         "text": "Iris Dataset"
        },
        "updatemenus": [
         {
          "buttons": [
           {
            "args": [
             null,
             {
              "frame": {
               "duration": 500,
               "redraw": false
              },
              "fromcurrent": true,
              "mode": "immediate",
              "transition": {
               "duration": 500,
               "easing": "linear"
              }
             }
            ],
            "label": "&#9654;",
            "method": "animate"
           },
           {
            "args": [
             [
              null
             ],
             {
              "frame": {
               "duration": 0,
               "redraw": false
              },
              "fromcurrent": true,
              "mode": "immediate",
              "transition": {
               "duration": 0,
               "easing": "linear"
              }
             }
            ],
            "label": "&#9724;",
            "method": "animate"
           }
          ],
          "direction": "left",
          "pad": {
           "r": 10,
           "t": 70
          },
          "showactive": false,
          "type": "buttons",
          "x": 0.1,
          "xanchor": "right",
          "y": 0,
          "yanchor": "top"
         }
        ],
        "xaxis": {
         "anchor": "y",
         "domain": [
          0,
          1
         ],
         "range": [
          2,
          5
         ],
         "title": {
          "text": "sepal_width"
         },
         "type": "linear"
        },
        "yaxis": {
         "anchor": "x",
         "domain": [
          0,
          1
         ],
         "range": [
          4,
          8
         ],
         "title": {
          "text": "sepal_length"
         },
         "type": "linear"
        }
       }
      },
      "image/png": "[encoded data removed]",
      "text/html": [
       "<div>                            <div id=\"42968ad7-610a-4b34-888f-095899769f68\" class=\"plotly-graph-div\" style=\"height:525px; width:100%;\"></div>            <script type=\"text/javascript\">                require([\"plotly\"], function(Plotly) {                    window.PLOTLYENV=window.PLOTLYENV || {};                                    if (document.getElementById(\"42968ad7-610a-4b34-888f-095899769f68\")) {                    Plotly.newPlot(                        \"42968ad7-610a-4b34-888f-095899769f68\",                        [{\"customdata\":[[0.2,1.4],[0.2,1.4],[0.2,1.3],[0.2,1.5],[0.2,1.4],[0.2,1.5],[0.2,1.4],[0.2,1.5],[0.2,1.6],[0.2,1.2],[0.2,1.7],[0.2,1.0],[0.2,1.9],[0.2,1.6],[0.2,1.5],[0.2,1.4],[0.2,1.6],[0.2,1.6],[0.2,1.4],[0.2,1.2],[0.2,1.3],[0.2,1.3],[0.2,1.5],[0.2,1.3],[0.2,1.6],[0.2,1.4],[0.2,1.5],[0.2,1.4]],\"hovertemplate\":\"species=setosa\\u003cbr\\u003epetal_width=%{customdata[0]}\\u003cbr\\u003esepal_width=%{x}\\u003cbr\\u003esepal_length=%{y}\\u003cbr\\u003epetal_length=%{customdata[1]}\\u003cextra\\u003e\\u003c\\u002fextra\\u003e\",\"legendgroup\":\"setosa\",\"marker\":{\"color\":\"#636efa\",\"opacity\":0.7,\"size\":[1.4,1.4,1.3,1.5,1.4,1.5,1.4,1.5,1.6,1.2,1.7,1.0,1.9,1.6,1.5,1.4,1.6,1.6,1.4,1.2,1.3,1.3,1.5,1.3,1.6,1.4,1.5,1.4],\"sizemode\":\"area\",\"sizeref\":0.01725,\"symbol\":\"circle\"},\"mode\":\"markers\",\"name\":\"setosa\",\"orientation\":\"v\",\"showlegend\":true,\"x\":[3.5,3.0,3.2,3.1,3.6,3.4,2.9,3.7,3.4,4.0,3.4,3.6,3.4,3.0,3.5,3.4,3.2,3.1,4.2,3.2,3.5,3.0,3.4,3.2,3.8,3.2,3.7,3.3],\"xaxis\":\"x\",\"y\":[5.1,4.9,4.7,4.6,5.0,5.0,4.4,5.4,4.8,5.8,5.4,4.6,4.8,5.0,5.2,5.2,4.7,4.8,5.5,5.0,5.5,4.4,5.1,4.4,5.1,4.6,5.3,5.0],\"yaxis\":\"y\",\"type\":\"scatter\"}],                        {\"template\":{\"data\":{\"histogram2dcontour\":[{\"type\":\"histogram2dcontour\",\"colorbar\":{\"outlinewidth\":0,\"ticks\":\"\"},\"colorscale\":[[0.0,\"#0d0887\"],[0.1111111111111111,\"#46039f\"],[0.2222222222222222,\"#7201a8\"],[0.3333333333333333,\"#9c179e\"],[0.4444444444444444,\"#bd3786\"],[0.5555555555555556,\"#d8576b\"],[0.6666666666666666,\"#ed7953\"],[0.7777777777777778,\"#fb9f3a\"],[0.8888888888888888,\"#fdca26\"],[1.0,\"#f0f921\"]]}],\"choropleth\":[{\"type\":\"choropleth\",\"colorbar\":{\"outlinewidth\":0,\"ticks\":\"\"}}],\"histogram2d\":[{\"type\":\"histogram2d\",\"colorbar\":{\"outlinewidth\":0,\"ticks\":\"\"},\"colorscale\":[[0.0,\"#0d0887\"],[0.1111111111111111,\"#46039f\"],[0.2222222222222222,\"#7201a8\"],[0.3333333333333333,\"#9c179e\"],[0.4444444444444444,\"#bd3786\"],[0.5555555555555556,\"#d8576b\"],[0.6666666666666666,\"#ed7953\"],[0.7777777777777778,\"#fb9f3a\"],[0.8888888888888888,\"#fdca26\"],[1.0,\"#f0f921\"]]}],\"heatmap\":[{\"type\":\"heatmap\",\"colorbar\":{\"outlinewidth\":0,\"ticks\":\"\"},\"colorscale\":[[0.0,\"#0d0887\"],[0.1111111111111111,\"#46039f\"],[0.2222222222222222,\"#7201a8\"],[0.3333333333333333,\"#9c179e\"],[0.4444444444444444,\"#bd3786\"],[0.5555555555555556,\"#d8576b\"],[0.6666666666666666,\"#ed7953\"],[0.7777777777777778,\"#fb9f3a\"],[0.8888888888888888,\"#fdca26\"],[1.0,\"#f0f921\"]]}],\"heatmapgl\":[{\"type\":\"heatmapgl\",\"colorbar\":{\"outlinewidth\":0,\"ticks\":\"\"},\"colorscale\":[[0.0,\"#0d0887\"],[0.1111111111111111,\"#46039f\"],[0.2222222222222222,\"#7201a8\"],[0.3333333333333333,\"#9c179e\"],[0.4444444444444444,\"#bd3786\"],[0.5555555555555556,\"#d8576b\"],[0.6666666666666666,\"#ed7953\"],[0.7777777777777778,\"#fb9f3a\"],[0.8888888888888888,\"#fdca26\"],[1.0,\"#f0f921\"]]}],\"contourcarpet\":[{\"type\":\"contourcarpet\",\"colorbar\":{\"outlinewidth\":0,\"ticks\":\"\"}}],\"contour\":[{\"type\":\"contour\",\"colorbar\":{\"outlinewidth\":0,\"ticks\":\"\"},\"colorscale\":[[0.0,\"#0d0887\"],[0.1111111111111111,\"#46039f\"],[0.2222222222222222,\"#7201a8\"],[0.3333333333333333,\"#9c179e\"],[0.4444444444444444,\"#bd3786\"],[0.5555555555555556,\"#d8576b\"],[0.6666666666666666,\"#ed7953\"],[0.7777777777777778,\"#fb9f3a\"],[0.8888888888888888,\"#fdca26\"],[1.0,\"#f0f921\"]]}],\"surface\":[{\"type\":\"surface\",\"colorbar\":{\"outlinewidth\":0,\"ticks\":\"\"},\"colorscale\":[[0.0,\"#0d0887\"],[0.1111111111111111,\"#46039f\"],[0.2222222222222222,\"#7201a8\"],[0.3333333333333333,\"#9c179e\"],[0.4444444444444444,\"#bd3786\"],[0.5555555555555556,\"#d8576b\"],[0.6666666666666666,\"#ed7953\"],[0.7777777777777778,\"#fb9f3a\"],[0.8888888888888888,\"#fdca26\"],[1.0,\"#f0f921\"]]}],\"mesh3d\":[{\"type\":\"mesh3d\",\"colorbar\":{\"outlinewidth\":0,\"ticks\":\"\"}}],\"scatter\":[{\"fillpattern\":{\"fillmode\":\"overlay\",\"size\":10,\"solidity\":0.2},\"type\":\"scatter\"}],\"parcoords\":[{\"type\":\"parcoords\",\"line\":{\"colorbar\":{\"outlinewidth\":0,\"ticks\":\"\"}}}],\"scatterpolargl\":[{\"type\":\"scatterpolargl\",\"marker\":{\"colorbar\":{\"outlinewidth\":0,\"ticks\":\"\"}}}],\"bar\":[{\"error_x\":{\"color\":\"#2a3f5f\"},\"error_y\":{\"color\":\"#2a3f5f\"},\"marker\":{\"line\":{\"color\":\"#E5ECF6\",\"width\":0.5},\"pattern\":{\"fillmode\":\"overlay\",\"size\":10,\"solidity\":0.2}},\"type\":\"bar\"}],\"scattergeo\":[{\"type\":\"scattergeo\",\"marker\":{\"colorbar\":{\"outlinewidth\":0,\"ticks\":\"\"}}}],\"scatterpolar\":[{\"type\":\"scatterpolar\",\"marker\":{\"colorbar\":{\"outlinewidth\":0,\"ticks\":\"\"}}}],\"histogram\":[{\"marker\":{\"pattern\":{\"fillmode\":\"overlay\",\"size\":10,\"solidity\":0.2}},\"type\":\"histogram\"}],\"scattergl\":[{\"type\":\"scattergl\",\"marker\":{\"colorbar\":{\"outlinewidth\":0,\"ticks\":\"\"}}}],\"scatter3d\":[{\"type\":\"scatter3d\",\"line\":{\"colorbar\":{\"outlinewidth\":0,\"ticks\":\"\"}},\"marker\":{\"colorbar\":{\"outlinewidth\":0,\"ticks\":\"\"}}}],\"scattermapbox\":[{\"type\":\"scattermapbox\",\"marker\":{\"colorbar\":{\"outlinewidth\":0,\"ticks\":\"\"}}}],\"scatterternary\":[{\"type\":\"scatterternary\",\"marker\":{\"colorbar\":{\"outlinewidth\":0,\"ticks\":\"\"}}}],\"scattercarpet\":[{\"type\":\"scattercarpet\",\"marker\":{\"colorbar\":{\"outlinewidth\":0,\"ticks\":\"\"}}}],\"carpet\":[{\"aaxis\":{\"endlinecolor\":\"#2a3f5f\",\"gridcolor\":\"white\",\"linecolor\":\"white\",\"minorgridcolor\":\"white\",\"startlinecolor\":\"#2a3f5f\"},\"baxis\":{\"endlinecolor\":\"#2a3f5f\",\"gridcolor\":\"white\",\"linecolor\":\"white\",\"minorgridcolor\":\"white\",\"startlinecolor\":\"#2a3f5f\"},\"type\":\"carpet\"}],\"table\":[{\"cells\":{\"fill\":{\"color\":\"#EBF0F8\"},\"line\":{\"color\":\"white\"}},\"header\":{\"fill\":{\"color\":\"#C8D4E3\"},\"line\":{\"color\":\"white\"}},\"type\":\"table\"}],\"barpolar\":[{\"marker\":{\"line\":{\"color\":\"#E5ECF6\",\"width\":0.5},\"pattern\":{\"fillmode\":\"overlay\",\"size\":10,\"solidity\":0.2}},\"type\":\"barpolar\"}],\"pie\":[{\"automargin\":true,\"type\":\"pie\"}]},\"layout\":{\"autotypenumbers\":\"strict\",\"colorway\":[\"#636efa\",\"#EF553B\",\"#00cc96\",\"#ab63fa\",\"#FFA15A\",\"#19d3f3\",\"#FF6692\",\"#B6E880\",\"#FF97FF\",\"#FECB52\"],\"font\":{\"color\":\"#2a3f5f\"},\"hovermode\":\"closest\",\"hoverlabel\":{\"align\":\"left\"},\"paper_bgcolor\":\"white\",\"plot_bgcolor\":\"#E5ECF6\",\"polar\":{\"bgcolor\":\"#E5ECF6\",\"angularaxis\":{\"gridcolor\":\"white\",\"linecolor\":\"white\",\"ticks\":\"\"},\"radialaxis\":{\"gridcolor\":\"white\",\"linecolor\":\"white\",\"ticks\":\"\"}},\"ternary\":{\"bgcolor\":\"#E5ECF6\",\"aaxis\":{\"gridcolor\":\"white\",\"linecolor\":\"white\",\"ticks\":\"\"},\"baxis\":{\"gridcolor\":\"white\",\"linecolor\":\"white\",\"ticks\":\"\"},\"caxis\":{\"gridcolor\":\"white\",\"linecolor\":\"white\",\"ticks\":\"\"}},\"coloraxis\":{\"colorbar\":{\"outlinewidth\":0,\"ticks\":\"\"}},\"colorscale\":{\"sequential\":[[0.0,\"#0d0887\"],[0.1111111111111111,\"#46039f\"],[0.2222222222222222,\"#7201a8\"],[0.3333333333333333,\"#9c179e\"],[0.4444444444444444,\"#bd3786\"],[0.5555555555555556,\"#d8576b\"],[0.6666666666666666,\"#ed7953\"],[0.7777777777777778,\"#fb9f3a\"],[0.8888888888888888,\"#fdca26\"],[1.0,\"#f0f921\"]],\"sequentialminus\":[[0.0,\"#0d0887\"],[0.1111111111111111,\"#46039f\"],[0.2222222222222222,\"#7201a8\"],[0.3333333333333333,\"#9c179e\"],[0.4444444444444444,\"#bd3786\"],[0.5555555555555556,\"#d8576b\"],[0.6666666666666666,\"#ed7953\"],[0.7777777777777778,\"#fb9f3a\"],[0.8888888888888888,\"#fdca26\"],[1.0,\"#f0f921\"]],\"diverging\":[[0,\"#8e0152\"],[0.1,\"#c51b7d\"],[0.2,\"#de77ae\"],[0.3,\"#f1b6da\"],[0.4,\"#fde0ef\"],[0.5,\"#f7f7f7\"],[0.6,\"#e6f5d0\"],[0.7,\"#b8e186\"],[0.8,\"#7fbc41\"],[0.9,\"#4d9221\"],[1,\"#276419\"]]},\"xaxis\":{\"gridcolor\":\"white\",\"linecolor\":\"white\",\"ticks\":\"\",\"title\":{\"standoff\":15},\"zerolinecolor\":\"white\",\"automargin\":true,\"zerolinewidth\":2},\"yaxis\":{\"gridcolor\":\"white\",\"linecolor\":\"white\",\"ticks\":\"\",\"title\":{\"standoff\":15},\"zerolinecolor\":\"white\",\"automargin\":true,\"zerolinewidth\":2},\"scene\":{\"xaxis\":{\"backgroundcolor\":\"#E5ECF6\",\"gridcolor\":\"white\",\"linecolor\":\"white\",\"showbackground\":true,\"ticks\":\"\",\"zerolinecolor\":\"white\",\"gridwidth\":2},\"yaxis\":{\"backgroundcolor\":\"#E5ECF6\",\"gridcolor\":\"white\",\"linecolor\":\"white\",\"showbackground\":true,\"ticks\":\"\",\"zerolinecolor\":\"white\",\"gridwidth\":2},\"zaxis\":{\"backgroundcolor\":\"#E5ECF6\",\"gridcolor\":\"white\",\"linecolor\":\"white\",\"showbackground\":true,\"ticks\":\"\",\"zerolinecolor\":\"white\",\"gridwidth\":2}},\"shapedefaults\":{\"line\":{\"color\":\"#2a3f5f\"}},\"annotationdefaults\":{\"arrowcolor\":\"#2a3f5f\",\"arrowhead\":0,\"arrowwidth\":1},\"geo\":{\"bgcolor\":\"white\",\"landcolor\":\"#E5ECF6\",\"subunitcolor\":\"white\",\"showland\":true,\"showlakes\":true,\"lakecolor\":\"white\"},\"title\":{\"x\":0.05},\"mapbox\":{\"style\":\"light\"}}},\"xaxis\":{\"anchor\":\"y\",\"domain\":[0.0,1.0],\"title\":{\"text\":\"sepal_width\"},\"range\":[2,5]},\"yaxis\":{\"anchor\":\"x\",\"domain\":[0.0,1.0],\"title\":{\"text\":\"sepal_length\"},\"range\":[4,8]},\"legend\":{\"title\":{\"text\":\"species\"},\"tracegroupgap\":0,\"itemsizing\":\"constant\"},\"title\":{\"text\":\"Iris Dataset\"},\"updatemenus\":[{\"buttons\":[{\"args\":[null,{\"frame\":{\"duration\":500,\"redraw\":false},\"mode\":\"immediate\",\"fromcurrent\":true,\"transition\":{\"duration\":500,\"easing\":\"linear\"}}],\"label\":\"&#9654;\",\"method\":\"animate\"},{\"args\":[[null],{\"frame\":{\"duration\":0,\"redraw\":false},\"mode\":\"immediate\",\"fromcurrent\":true,\"transition\":{\"duration\":0,\"easing\":\"linear\"}}],\"label\":\"&#9724;\",\"method\":\"animate\"}],\"direction\":\"left\",\"pad\":{\"r\":10,\"t\":70},\"showactive\":false,\"type\":\"buttons\",\"x\":0.1,\"xanchor\":\"right\",\"y\":0,\"yanchor\":\"top\"}],\"sliders\":[{\"active\":0,\"currentvalue\":{\"prefix\":\"petal_width=\"},\"len\":0.9,\"pad\":{\"b\":10,\"t\":60},\"steps\":[{\"args\":[[\"0.2\"],{\"frame\":{\"duration\":0,\"redraw\":false},\"mode\":\"immediate\",\"fromcurrent\":true,\"transition\":{\"duration\":0,\"easing\":\"linear\"}}],\"label\":\"0.2\",\"method\":\"animate\"},{\"args\":[[\"0.4\"],{\"frame\":{\"duration\":0,\"redraw\":false},\"mode\":\"immediate\",\"fromcurrent\":true,\"transition\":{\"duration\":0,\"easing\":\"linear\"}}],\"label\":\"0.4\",\"method\":\"animate\"},{\"args\":[[\"0.3\"],{\"frame\":{\"duration\":0,\"redraw\":false},\"mode\":\"immediate\",\"fromcurrent\":true,\"transition\":{\"duration\":0,\"easing\":\"linear\"}}],\"label\":\"0.3\",\"method\":\"animate\"},{\"args\":[[\"0.1\"],{\"frame\":{\"duration\":0,\"redraw\":false},\"mode\":\"immediate\",\"fromcurrent\":true,\"transition\":{\"duration\":0,\"easing\":\"linear\"}}],\"label\":\"0.1\",\"method\":\"animate\"},{\"args\":[[\"0.5\"],{\"frame\":{\"duration\":0,\"redraw\":false},\"mode\":\"immediate\",\"fromcurrent\":true,\"transition\":{\"duration\":0,\"easing\":\"linear\"}}],\"label\":\"0.5\",\"method\":\"animate\"},{\"args\":[[\"0.6\"],{\"frame\":{\"duration\":0,\"redraw\":false},\"mode\":\"immediate\",\"fromcurrent\":true,\"transition\":{\"duration\":0,\"easing\":\"linear\"}}],\"label\":\"0.6\",\"method\":\"animate\"},{\"args\":[[\"1.4\"],{\"frame\":{\"duration\":0,\"redraw\":false},\"mode\":\"immediate\",\"fromcurrent\":true,\"transition\":{\"duration\":0,\"easing\":\"linear\"}}],\"label\":\"1.4\",\"method\":\"animate\"},{\"args\":[[\"1.5\"],{\"frame\":{\"duration\":0,\"redraw\":false},\"mode\":\"immediate\",\"fromcurrent\":true,\"transition\":{\"duration\":0,\"easing\":\"linear\"}}],\"label\":\"1.5\",\"method\":\"animate\"},{\"args\":[[\"1.3\"],{\"frame\":{\"duration\":0,\"redraw\":false},\"mode\":\"immediate\",\"fromcurrent\":true,\"transition\":{\"duration\":0,\"easing\":\"linear\"}}],\"label\":\"1.3\",\"method\":\"animate\"},{\"args\":[[\"1.6\"],{\"frame\":{\"duration\":0,\"redraw\":false},\"mode\":\"immediate\",\"fromcurrent\":true,\"transition\":{\"duration\":0,\"easing\":\"linear\"}}],\"label\":\"1.6\",\"method\":\"animate\"},{\"args\":[[\"1.0\"],{\"frame\":{\"duration\":0,\"redraw\":false},\"mode\":\"immediate\",\"fromcurrent\":true,\"transition\":{\"duration\":0,\"easing\":\"linear\"}}],\"label\":\"1.0\",\"method\":\"animate\"},{\"args\":[[\"1.1\"],{\"frame\":{\"duration\":0,\"redraw\":false},\"mode\":\"immediate\",\"fromcurrent\":true,\"transition\":{\"duration\":0,\"easing\":\"linear\"}}],\"label\":\"1.1\",\"method\":\"animate\"},{\"args\":[[\"1.8\"],{\"frame\":{\"duration\":0,\"redraw\":false},\"mode\":\"immediate\",\"fromcurrent\":true,\"transition\":{\"duration\":0,\"easing\":\"linear\"}}],\"label\":\"1.8\",\"method\":\"animate\"},{\"args\":[[\"1.2\"],{\"frame\":{\"duration\":0,\"redraw\":false},\"mode\":\"immediate\",\"fromcurrent\":true,\"transition\":{\"duration\":0,\"easing\":\"linear\"}}],\"label\":\"1.2\",\"method\":\"animate\"},{\"args\":[[\"1.7\"],{\"frame\":{\"duration\":0,\"redraw\":false},\"mode\":\"immediate\",\"fromcurrent\":true,\"transition\":{\"duration\":0,\"easing\":\"linear\"}}],\"label\":\"1.7\",\"method\":\"animate\"},{\"args\":[[\"2.5\"],{\"frame\":{\"duration\":0,\"redraw\":false},\"mode\":\"immediate\",\"fromcurrent\":true,\"transition\":{\"duration\":0,\"easing\":\"linear\"}}],\"label\":\"2.5\",\"method\":\"animate\"},{\"args\":[[\"1.9\"],{\"frame\":{\"duration\":0,\"redraw\":false},\"mode\":\"immediate\",\"fromcurrent\":true,\"transition\":{\"duration\":0,\"easing\":\"linear\"}}],\"label\":\"1.9\",\"method\":\"animate\"},{\"args\":[[\"2.1\"],{\"frame\":{\"duration\":0,\"redraw\":false},\"mode\":\"immediate\",\"fromcurrent\":true,\"transition\":{\"duration\":0,\"easing\":\"linear\"}}],\"label\":\"2.1\",\"method\":\"animate\"},{\"args\":[[\"2.2\"],{\"frame\":{\"duration\":0,\"redraw\":false},\"mode\":\"immediate\",\"fromcurrent\":true,\"transition\":{\"duration\":0,\"easing\":\"linear\"}}],\"label\":\"2.2\",\"method\":\"animate\"},{\"args\":[[\"2.0\"],{\"frame\":{\"duration\":0,\"redraw\":false},\"mode\":\"immediate\",\"fromcurrent\":true,\"transition\":{\"duration\":0,\"easing\":\"linear\"}}],\"label\":\"2.0\",\"method\":\"animate\"},{\"args\":[[\"2.4\"],{\"frame\":{\"duration\":0,\"redraw\":false},\"mode\":\"immediate\",\"fromcurrent\":true,\"transition\":{\"duration\":0,\"easing\":\"linear\"}}],\"label\":\"2.4\",\"method\":\"animate\"},{\"args\":[[\"2.3\"],{\"frame\":{\"duration\":0,\"redraw\":false},\"mode\":\"immediate\",\"fromcurrent\":true,\"transition\":{\"duration\":0,\"easing\":\"linear\"}}],\"label\":\"2.3\",\"method\":\"animate\"}],\"x\":0.1,\"xanchor\":\"left\",\"y\":0,\"yanchor\":\"top\"}]},                        {\"responsive\": true}                    ).then(function(){\n",
       "                            Plotly.addFrames('42968ad7-610a-4b34-888f-095899769f68', [{\"data\":[{\"customdata\":[[0.2,1.4],[0.2,1.4],[0.2,1.3],[0.2,1.5],[0.2,1.4],[0.2,1.5],[0.2,1.4],[0.2,1.5],[0.2,1.6],[0.2,1.2],[0.2,1.7],[0.2,1.0],[0.2,1.9],[0.2,1.6],[0.2,1.5],[0.2,1.4],[0.2,1.6],[0.2,1.6],[0.2,1.4],[0.2,1.2],[0.2,1.3],[0.2,1.3],[0.2,1.5],[0.2,1.3],[0.2,1.6],[0.2,1.4],[0.2,1.5],[0.2,1.4]],\"hovertemplate\":\"species=setosa\\u003cbr\\u003epetal_width=%{customdata[0]}\\u003cbr\\u003esepal_width=%{x}\\u003cbr\\u003esepal_length=%{y}\\u003cbr\\u003epetal_length=%{customdata[1]}\\u003cextra\\u003e\\u003c\\u002fextra\\u003e\",\"legendgroup\":\"setosa\",\"marker\":{\"color\":\"#636efa\",\"opacity\":0.7,\"size\":[1.4,1.4,1.3,1.5,1.4,1.5,1.4,1.5,1.6,1.2,1.7,1.0,1.9,1.6,1.5,1.4,1.6,1.6,1.4,1.2,1.3,1.3,1.5,1.3,1.6,1.4,1.5,1.4],\"sizemode\":\"area\",\"sizeref\":0.01725,\"symbol\":\"circle\"},\"mode\":\"markers\",\"name\":\"setosa\",\"orientation\":\"v\",\"showlegend\":true,\"x\":[3.5,3.0,3.2,3.1,3.6,3.4,2.9,3.7,3.4,4.0,3.4,3.6,3.4,3.0,3.5,3.4,3.2,3.1,4.2,3.2,3.5,3.0,3.4,3.2,3.8,3.2,3.7,3.3],\"xaxis\":\"x\",\"y\":[5.1,4.9,4.7,4.6,5.0,5.0,4.4,5.4,4.8,5.8,5.4,4.6,4.8,5.0,5.2,5.2,4.7,4.8,5.5,5.0,5.5,4.4,5.1,4.4,5.1,4.6,5.3,5.0],\"yaxis\":\"y\",\"type\":\"scatter\"}],\"name\":\"0.2\"},{\"data\":[{\"customdata\":[[0.4,1.7],[0.4,1.5],[0.4,1.3],[0.4,1.5],[0.4,1.6],[0.4,1.5],[0.4,1.9]],\"hovertemplate\":\"species=setosa\\u003cbr\\u003epetal_width=%{customdata[0]}\\u003cbr\\u003esepal_width=%{x}\\u003cbr\\u003esepal_length=%{y}\\u003cbr\\u003epetal_length=%{customdata[1]}\\u003cextra\\u003e\\u003c\\u002fextra\\u003e\",\"legendgroup\":\"setosa\",\"marker\":{\"color\":\"#636efa\",\"opacity\":0.7,\"size\":[1.7,1.5,1.3,1.5,1.6,1.5,1.9],\"sizemode\":\"area\",\"sizeref\":0.01725,\"symbol\":\"circle\"},\"mode\":\"markers\",\"name\":\"setosa\",\"orientation\":\"v\",\"showlegend\":true,\"x\":[3.9,4.4,3.9,3.7,3.4,3.4,3.8],\"xaxis\":\"x\",\"y\":[5.4,5.7,5.4,5.1,5.0,5.4,5.1],\"yaxis\":\"y\",\"type\":\"scatter\"}],\"name\":\"0.4\"},{\"data\":[{\"customdata\":[[0.3,1.4],[0.3,1.4],[0.3,1.7],[0.3,1.5],[0.3,1.3],[0.3,1.3],[0.3,1.4]],\"hovertemplate\":\"species=setosa\\u003cbr\\u003epetal_width=%{customdata[0]}\\u003cbr\\u003esepal_width=%{x}\\u003cbr\\u003esepal_length=%{y}\\u003cbr\\u003epetal_length=%{customdata[1]}\\u003cextra\\u003e\\u003c\\u002fextra\\u003e\",\"legendgroup\":\"setosa\",\"marker\":{\"color\":\"#636efa\",\"opacity\":0.7,\"size\":[1.4,1.4,1.7,1.5,1.3,1.3,1.4],\"sizemode\":\"area\",\"sizeref\":0.01725,\"symbol\":\"circle\"},\"mode\":\"markers\",\"name\":\"setosa\",\"orientation\":\"v\",\"showlegend\":true,\"x\":[3.4,3.5,3.8,3.8,3.5,2.3,3.0],\"xaxis\":\"x\",\"y\":[4.6,5.1,5.7,5.1,5.0,4.5,4.8],\"yaxis\":\"y\",\"type\":\"scatter\"}],\"name\":\"0.3\"},{\"data\":[{\"customdata\":[[0.1,1.5],[0.1,1.4],[0.1,1.1],[0.1,1.5],[0.1,1.5],[0.1,1.5]],\"hovertemplate\":\"species=setosa\\u003cbr\\u003epetal_width=%{customdata[0]}\\u003cbr\\u003esepal_width=%{x}\\u003cbr\\u003esepal_length=%{y}\\u003cbr\\u003epetal_length=%{customdata[1]}\\u003cextra\\u003e\\u003c\\u002fextra\\u003e\",\"legendgroup\":\"setosa\",\"marker\":{\"color\":\"#636efa\",\"opacity\":0.7,\"size\":[1.5,1.4,1.1,1.5,1.5,1.5],\"sizemode\":\"area\",\"sizeref\":0.01725,\"symbol\":\"circle\"},\"mode\":\"markers\",\"name\":\"setosa\",\"orientation\":\"v\",\"showlegend\":true,\"x\":[3.1,3.0,3.0,4.1,3.1,3.1],\"xaxis\":\"x\",\"y\":[4.9,4.8,4.3,5.2,4.9,4.9],\"yaxis\":\"y\",\"type\":\"scatter\"}],\"name\":\"0.1\"},{\"data\":[{\"customdata\":[[0.5,1.7]],\"hovertemplate\":\"species=setosa\\u003cbr\\u003epetal_width=%{customdata[0]}\\u003cbr\\u003esepal_width=%{x}\\u003cbr\\u003esepal_length=%{y}\\u003cbr\\u003epetal_length=%{customdata[1]}\\u003cextra\\u003e\\u003c\\u002fextra\\u003e\",\"legendgroup\":\"setosa\",\"marker\":{\"color\":\"#636efa\",\"opacity\":0.7,\"size\":[1.7],\"sizemode\":\"area\",\"sizeref\":0.01725,\"symbol\":\"circle\"},\"mode\":\"markers\",\"name\":\"setosa\",\"orientation\":\"v\",\"showlegend\":true,\"x\":[3.3],\"xaxis\":\"x\",\"y\":[5.1],\"yaxis\":\"y\",\"type\":\"scatter\"}],\"name\":\"0.5\"},{\"data\":[{\"customdata\":[[0.6,1.6]],\"hovertemplate\":\"species=setosa\\u003cbr\\u003epetal_width=%{customdata[0]}\\u003cbr\\u003esepal_width=%{x}\\u003cbr\\u003esepal_length=%{y}\\u003cbr\\u003epetal_length=%{customdata[1]}\\u003cextra\\u003e\\u003c\\u002fextra\\u003e\",\"legendgroup\":\"setosa\",\"marker\":{\"color\":\"#636efa\",\"opacity\":0.7,\"size\":[1.6],\"sizemode\":\"area\",\"sizeref\":0.01725,\"symbol\":\"circle\"},\"mode\":\"markers\",\"name\":\"setosa\",\"orientation\":\"v\",\"showlegend\":true,\"x\":[3.5],\"xaxis\":\"x\",\"y\":[5.0],\"yaxis\":\"y\",\"type\":\"scatter\"}],\"name\":\"0.6\"},{\"data\":[{\"customdata\":[[1.4,4.7],[1.4,3.9],[1.4,4.7],[1.4,4.4],[1.4,4.4],[1.4,4.8],[1.4,4.6]],\"hovertemplate\":\"species=versicolor\\u003cbr\\u003epetal_width=%{customdata[0]}\\u003cbr\\u003esepal_width=%{x}\\u003cbr\\u003esepal_length=%{y}\\u003cbr\\u003epetal_length=%{customdata[1]}\\u003cextra\\u003e\\u003c\\u002fextra\\u003e\",\"legendgroup\":\"versicolor\",\"marker\":{\"color\":\"#EF553B\",\"opacity\":0.7,\"size\":[4.7,3.9,4.7,4.4,4.4,4.8,4.6],\"sizemode\":\"area\",\"sizeref\":0.01725,\"symbol\":\"circle\"},\"mode\":\"markers\",\"name\":\"versicolor\",\"orientation\":\"v\",\"showlegend\":true,\"x\":[3.2,2.7,2.9,3.1,3.0,2.8,3.0],\"xaxis\":\"x\",\"y\":[7.0,5.2,6.1,6.7,6.6,6.8,6.1],\"yaxis\":\"y\",\"type\":\"scatter\"},{\"customdata\":[[1.4,5.6]],\"hovertemplate\":\"species=virginica\\u003cbr\\u003epetal_width=%{customdata[0]}\\u003cbr\\u003esepal_width=%{x}\\u003cbr\\u003esepal_length=%{y}\\u003cbr\\u003epetal_length=%{customdata[1]}\\u003cextra\\u003e\\u003c\\u002fextra\\u003e\",\"legendgroup\":\"virginica\",\"marker\":{\"color\":\"#00cc96\",\"opacity\":0.7,\"size\":[5.6],\"sizemode\":\"area\",\"sizeref\":0.01725,\"symbol\":\"circle\"},\"mode\":\"markers\",\"name\":\"virginica\",\"orientation\":\"v\",\"showlegend\":true,\"x\":[2.6],\"xaxis\":\"x\",\"y\":[6.1],\"yaxis\":\"y\",\"type\":\"scatter\"}],\"name\":\"1.4\"},{\"data\":[{\"customdata\":[[1.5,4.5],[1.5,4.9],[1.5,4.6],[1.5,4.2],[1.5,4.5],[1.5,4.5],[1.5,4.9],[1.5,4.5],[1.5,4.5],[1.5,4.7]],\"hovertemplate\":\"species=versicolor\\u003cbr\\u003epetal_width=%{customdata[0]}\\u003cbr\\u003esepal_width=%{x}\\u003cbr\\u003esepal_length=%{y}\\u003cbr\\u003epetal_length=%{customdata[1]}\\u003cextra\\u003e\\u003c\\u002fextra\\u003e\",\"legendgroup\":\"versicolor\",\"marker\":{\"color\":\"#EF553B\",\"opacity\":0.7,\"size\":[4.5,4.9,4.6,4.2,4.5,4.5,4.9,4.5,4.5,4.7],\"sizemode\":\"area\",\"sizeref\":0.01725,\"symbol\":\"circle\"},\"mode\":\"markers\",\"name\":\"versicolor\",\"orientation\":\"v\",\"showlegend\":true,\"x\":[3.2,3.1,2.8,3.0,3.0,2.2,2.5,2.9,3.0,3.1],\"xaxis\":\"x\",\"y\":[6.4,6.9,6.5,5.9,5.6,6.2,6.3,6.0,5.4,6.7],\"yaxis\":\"y\",\"type\":\"scatter\"},{\"customdata\":[[1.5,5.0],[1.5,5.1]],\"hovertemplate\":\"species=virginica\\u003cbr\\u003epetal_width=%{customdata[0]}\\u003cbr\\u003esepal_width=%{x}\\u003cbr\\u003esepal_length=%{y}\\u003cbr\\u003epetal_length=%{customdata[1]}\\u003cextra\\u003e\\u003c\\u002fextra\\u003e\",\"legendgroup\":\"virginica\",\"marker\":{\"color\":\"#00cc96\",\"opacity\":0.7,\"size\":[5.0,5.1],\"sizemode\":\"area\",\"sizeref\":0.01725,\"symbol\":\"circle\"},\"mode\":\"markers\",\"name\":\"virginica\",\"orientation\":\"v\",\"showlegend\":true,\"x\":[2.2,2.8],\"xaxis\":\"x\",\"y\":[6.0,6.3],\"yaxis\":\"y\",\"type\":\"scatter\"}],\"name\":\"1.5\"},{\"data\":[{\"customdata\":[[1.3,4.0],[1.3,4.5],[1.3,4.6],[1.3,3.6],[1.3,4.0],[1.3,4.3],[1.3,4.4],[1.3,4.1],[1.3,4.0],[1.3,4.2],[1.3,4.2],[1.3,4.3],[1.3,4.1]],\"hovertemplate\":\"species=versicolor\\u003cbr\\u003epetal_width=%{customdata[0]}\\u003cbr\\u003esepal_width=%{x}\\u003cbr\\u003esepal_length=%{y}\\u003cbr\\u003epetal_length=%{customdata[1]}\\u003cextra\\u003e\\u003c\\u002fextra\\u003e\",\"legendgroup\":\"versicolor\",\"marker\":{\"color\":\"#EF553B\",\"opacity\":0.7,\"size\":[4.0,4.5,4.6,3.6,4.0,4.3,4.4,4.1,4.0,4.2,4.2,4.3,4.1],\"sizemode\":\"area\",\"sizeref\":0.01725,\"symbol\":\"circle\"},\"mode\":\"markers\",\"name\":\"versicolor\",\"orientation\":\"v\",\"showlegend\":true,\"x\":[2.3,2.8,2.9,2.9,2.8,2.9,2.3,3.0,2.5,2.7,2.9,2.9,2.8],\"xaxis\":\"x\",\"y\":[5.5,5.7,6.6,5.6,6.1,6.4,6.3,5.6,5.5,5.6,5.7,6.2,5.7],\"yaxis\":\"y\",\"type\":\"scatter\"}],\"name\":\"1.3\"},{\"data\":[{\"customdata\":[[1.6,4.7],[1.6,5.1],[1.6,4.5]],\"hovertemplate\":\"species=versicolor\\u003cbr\\u003epetal_width=%{customdata[0]}\\u003cbr\\u003esepal_width=%{x}\\u003cbr\\u003esepal_length=%{y}\\u003cbr\\u003epetal_length=%{customdata[1]}\\u003cextra\\u003e\\u003c\\u002fextra\\u003e\",\"legendgroup\":\"versicolor\",\"marker\":{\"color\":\"#EF553B\",\"opacity\":0.7,\"size\":[4.7,5.1,4.5],\"sizemode\":\"area\",\"sizeref\":0.01725,\"symbol\":\"circle\"},\"mode\":\"markers\",\"name\":\"versicolor\",\"orientation\":\"v\",\"showlegend\":true,\"x\":[3.3,2.7,3.4],\"xaxis\":\"x\",\"y\":[6.3,6.0,6.0],\"yaxis\":\"y\",\"type\":\"scatter\"},{\"customdata\":[[1.6,5.8]],\"hovertemplate\":\"species=virginica\\u003cbr\\u003epetal_width=%{customdata[0]}\\u003cbr\\u003esepal_width=%{x}\\u003cbr\\u003esepal_length=%{y}\\u003cbr\\u003epetal_length=%{customdata[1]}\\u003cextra\\u003e\\u003c\\u002fextra\\u003e\",\"legendgroup\":\"virginica\",\"marker\":{\"color\":\"#00cc96\",\"opacity\":0.7,\"size\":[5.8],\"sizemode\":\"area\",\"sizeref\":0.01725,\"symbol\":\"circle\"},\"mode\":\"markers\",\"name\":\"virginica\",\"orientation\":\"v\",\"showlegend\":true,\"x\":[3.0],\"xaxis\":\"x\",\"y\":[7.2],\"yaxis\":\"y\",\"type\":\"scatter\"}],\"name\":\"1.6\"},{\"data\":[{\"customdata\":[[1.0,3.3],[1.0,3.5],[1.0,4.0],[1.0,4.1],[1.0,3.5],[1.0,3.7],[1.0,3.3]],\"hovertemplate\":\"species=versicolor\\u003cbr\\u003epetal_width=%{customdata[0]}\\u003cbr\\u003esepal_width=%{x}\\u003cbr\\u003esepal_length=%{y}\\u003cbr\\u003epetal_length=%{customdata[1]}\\u003cextra\\u003e\\u003c\\u002fextra\\u003e\",\"legendgroup\":\"versicolor\",\"marker\":{\"color\":\"#EF553B\",\"opacity\":0.7,\"size\":[3.3,3.5,4.0,4.1,3.5,3.7,3.3],\"sizemode\":\"area\",\"sizeref\":0.01725,\"symbol\":\"circle\"},\"mode\":\"markers\",\"name\":\"versicolor\",\"orientation\":\"v\",\"showlegend\":true,\"x\":[2.4,2.0,2.2,2.7,2.6,2.4,2.3],\"xaxis\":\"x\",\"y\":[4.9,5.0,6.0,5.8,5.7,5.5,5.0],\"yaxis\":\"y\",\"type\":\"scatter\"}],\"name\":\"1.0\"},{\"data\":[{\"customdata\":[[1.1,3.9],[1.1,3.8],[1.1,3.0]],\"hovertemplate\":\"species=versicolor\\u003cbr\\u003epetal_width=%{customdata[0]}\\u003cbr\\u003esepal_width=%{x}\\u003cbr\\u003esepal_length=%{y}\\u003cbr\\u003epetal_length=%{customdata[1]}\\u003cextra\\u003e\\u003c\\u002fextra\\u003e\",\"legendgroup\":\"versicolor\",\"marker\":{\"color\":\"#EF553B\",\"opacity\":0.7,\"size\":[3.9,3.8,3.0],\"sizemode\":\"area\",\"sizeref\":0.01725,\"symbol\":\"circle\"},\"mode\":\"markers\",\"name\":\"versicolor\",\"orientation\":\"v\",\"showlegend\":true,\"x\":[2.5,2.4,2.5],\"xaxis\":\"x\",\"y\":[5.6,5.5,5.1],\"yaxis\":\"y\",\"type\":\"scatter\"}],\"name\":\"1.1\"},{\"data\":[{\"customdata\":[[1.8,4.8]],\"hovertemplate\":\"species=versicolor\\u003cbr\\u003epetal_width=%{customdata[0]}\\u003cbr\\u003esepal_width=%{x}\\u003cbr\\u003esepal_length=%{y}\\u003cbr\\u003epetal_length=%{customdata[1]}\\u003cextra\\u003e\\u003c\\u002fextra\\u003e\",\"legendgroup\":\"versicolor\",\"marker\":{\"color\":\"#EF553B\",\"opacity\":0.7,\"size\":[4.8],\"sizemode\":\"area\",\"sizeref\":0.01725,\"symbol\":\"circle\"},\"mode\":\"markers\",\"name\":\"versicolor\",\"orientation\":\"v\",\"showlegend\":true,\"x\":[3.2],\"xaxis\":\"x\",\"y\":[5.9],\"yaxis\":\"y\",\"type\":\"scatter\"},{\"customdata\":[[1.8,5.6],[1.8,6.3],[1.8,5.8],[1.8,5.5],[1.8,4.9],[1.8,6.0],[1.8,4.8],[1.8,4.9],[1.8,5.5],[1.8,4.8],[1.8,5.1]],\"hovertemplate\":\"species=virginica\\u003cbr\\u003epetal_width=%{customdata[0]}\\u003cbr\\u003esepal_width=%{x}\\u003cbr\\u003esepal_length=%{y}\\u003cbr\\u003epetal_length=%{customdata[1]}\\u003cextra\\u003e\\u003c\\u002fextra\\u003e\",\"legendgroup\":\"virginica\",\"marker\":{\"color\":\"#00cc96\",\"opacity\":0.7,\"size\":[5.6,6.3,5.8,5.5,4.9,6.0,4.8,4.9,5.5,4.8,5.1],\"sizemode\":\"area\",\"sizeref\":0.01725,\"symbol\":\"circle\"},\"mode\":\"markers\",\"name\":\"virginica\",\"orientation\":\"v\",\"showlegend\":true,\"x\":[2.9,2.9,2.5,3.0,2.7,3.2,2.8,3.0,3.1,3.0,3.0],\"xaxis\":\"x\",\"y\":[6.3,7.3,6.7,6.5,6.3,7.2,6.2,6.1,6.4,6.0,5.9],\"yaxis\":\"y\",\"type\":\"scatter\"}],\"name\":\"1.8\"},{\"data\":[{\"customdata\":[[1.2,4.7],[1.2,3.9],[1.2,4.4],[1.2,4.0],[1.2,4.2]],\"hovertemplate\":\"species=versicolor\\u003cbr\\u003epetal_width=%{customdata[0]}\\u003cbr\\u003esepal_width=%{x}\\u003cbr\\u003esepal_length=%{y}\\u003cbr\\u003epetal_length=%{customdata[1]}\\u003cextra\\u003e\\u003c\\u002fextra\\u003e\",\"legendgroup\":\"versicolor\",\"marker\":{\"color\":\"#EF553B\",\"opacity\":0.7,\"size\":[4.7,3.9,4.4,4.0,4.2],\"sizemode\":\"area\",\"sizeref\":0.01725,\"symbol\":\"circle\"},\"mode\":\"markers\",\"name\":\"versicolor\",\"orientation\":\"v\",\"showlegend\":true,\"x\":[2.8,2.7,2.6,2.6,3.0],\"xaxis\":\"x\",\"y\":[6.1,5.8,5.5,5.8,5.7],\"yaxis\":\"y\",\"type\":\"scatter\"}],\"name\":\"1.2\"},{\"data\":[{\"customdata\":[[1.7,5.0]],\"hovertemplate\":\"species=versicolor\\u003cbr\\u003epetal_width=%{customdata[0]}\\u003cbr\\u003esepal_width=%{x}\\u003cbr\\u003esepal_length=%{y}\\u003cbr\\u003epetal_length=%{customdata[1]}\\u003cextra\\u003e\\u003c\\u002fextra\\u003e\",\"legendgroup\":\"versicolor\",\"marker\":{\"color\":\"#EF553B\",\"opacity\":0.7,\"size\":[5.0],\"sizemode\":\"area\",\"sizeref\":0.01725,\"symbol\":\"circle\"},\"mode\":\"markers\",\"name\":\"versicolor\",\"orientation\":\"v\",\"showlegend\":true,\"x\":[3.0],\"xaxis\":\"x\",\"y\":[6.7],\"yaxis\":\"y\",\"type\":\"scatter\"},{\"customdata\":[[1.7,4.5]],\"hovertemplate\":\"species=virginica\\u003cbr\\u003epetal_width=%{customdata[0]}\\u003cbr\\u003esepal_width=%{x}\\u003cbr\\u003esepal_length=%{y}\\u003cbr\\u003epetal_length=%{customdata[1]}\\u003cextra\\u003e\\u003c\\u002fextra\\u003e\",\"legendgroup\":\"virginica\",\"marker\":{\"color\":\"#00cc96\",\"opacity\":0.7,\"size\":[4.5],\"sizemode\":\"area\",\"sizeref\":0.01725,\"symbol\":\"circle\"},\"mode\":\"markers\",\"name\":\"virginica\",\"orientation\":\"v\",\"showlegend\":true,\"x\":[2.5],\"xaxis\":\"x\",\"y\":[4.9],\"yaxis\":\"y\",\"type\":\"scatter\"}],\"name\":\"1.7\"},{\"data\":[{\"customdata\":[[2.5,6.0],[2.5,6.1],[2.5,5.7]],\"hovertemplate\":\"species=virginica\\u003cbr\\u003epetal_width=%{customdata[0]}\\u003cbr\\u003esepal_width=%{x}\\u003cbr\\u003esepal_length=%{y}\\u003cbr\\u003epetal_length=%{customdata[1]}\\u003cextra\\u003e\\u003c\\u002fextra\\u003e\",\"legendgroup\":\"virginica\",\"marker\":{\"color\":\"#00cc96\",\"opacity\":0.7,\"size\":[6.0,6.1,5.7],\"sizemode\":\"area\",\"sizeref\":0.01725,\"symbol\":\"circle\"},\"mode\":\"markers\",\"name\":\"virginica\",\"orientation\":\"v\",\"showlegend\":true,\"x\":[3.3,3.6,3.3],\"xaxis\":\"x\",\"y\":[6.3,7.2,6.7],\"yaxis\":\"y\",\"type\":\"scatter\"}],\"name\":\"2.5\"},{\"data\":[{\"customdata\":[[1.9,5.1],[1.9,5.3],[1.9,6.1],[1.9,5.1],[1.9,5.0]],\"hovertemplate\":\"species=virginica\\u003cbr\\u003epetal_width=%{customdata[0]}\\u003cbr\\u003esepal_width=%{x}\\u003cbr\\u003esepal_length=%{y}\\u003cbr\\u003epetal_length=%{customdata[1]}\\u003cextra\\u003e\\u003c\\u002fextra\\u003e\",\"legendgroup\":\"virginica\",\"marker\":{\"color\":\"#00cc96\",\"opacity\":0.7,\"size\":[5.1,5.3,6.1,5.1,5.0],\"sizemode\":\"area\",\"sizeref\":0.01725,\"symbol\":\"circle\"},\"mode\":\"markers\",\"name\":\"virginica\",\"orientation\":\"v\",\"showlegend\":true,\"x\":[2.7,2.7,2.8,2.7,2.5],\"xaxis\":\"x\",\"y\":[5.8,6.4,7.4,5.8,6.3],\"yaxis\":\"y\",\"type\":\"scatter\"}],\"name\":\"1.9\"},{\"data\":[{\"customdata\":[[2.1,5.9],[2.1,6.6],[2.1,5.5],[2.1,5.7],[2.1,5.6],[2.1,5.4]],\"hovertemplate\":\"species=virginica\\u003cbr\\u003epetal_width=%{customdata[0]}\\u003cbr\\u003esepal_width=%{x}\\u003cbr\\u003esepal_length=%{y}\\u003cbr\\u003epetal_length=%{customdata[1]}\\u003cextra\\u003e\\u003c\\u002fextra\\u003e\",\"legendgroup\":\"virginica\",\"marker\":{\"color\":\"#00cc96\",\"opacity\":0.7,\"size\":[5.9,6.6,5.5,5.7,5.6,5.4],\"sizemode\":\"area\",\"sizeref\":0.01725,\"symbol\":\"circle\"},\"mode\":\"markers\",\"name\":\"virginica\",\"orientation\":\"v\",\"showlegend\":true,\"x\":[3.0,3.0,3.0,3.3,2.8,3.1],\"xaxis\":\"x\",\"y\":[7.1,7.6,6.8,6.7,6.4,6.9],\"yaxis\":\"y\",\"type\":\"scatter\"}],\"name\":\"2.1\"},{\"data\":[{\"customdata\":[[2.2,5.8],[2.2,6.7],[2.2,5.6]],\"hovertemplate\":\"species=virginica\\u003cbr\\u003epetal_width=%{customdata[0]}\\u003cbr\\u003esepal_width=%{x}\\u003cbr\\u003esepal_length=%{y}\\u003cbr\\u003epetal_length=%{customdata[1]}\\u003cextra\\u003e\\u003c\\u002fextra\\u003e\",\"legendgroup\":\"virginica\",\"marker\":{\"color\":\"#00cc96\",\"opacity\":0.7,\"size\":[5.8,6.7,5.6],\"sizemode\":\"area\",\"sizeref\":0.01725,\"symbol\":\"circle\"},\"mode\":\"markers\",\"name\":\"virginica\",\"orientation\":\"v\",\"showlegend\":true,\"x\":[3.0,3.8,2.8],\"xaxis\":\"x\",\"y\":[6.5,7.7,6.4],\"yaxis\":\"y\",\"type\":\"scatter\"}],\"name\":\"2.2\"},{\"data\":[{\"customdata\":[[2.0,5.1],[2.0,5.0],[2.0,4.9],[2.0,6.7],[2.0,6.4],[2.0,5.2]],\"hovertemplate\":\"species=virginica\\u003cbr\\u003epetal_width=%{customdata[0]}\\u003cbr\\u003esepal_width=%{x}\\u003cbr\\u003esepal_length=%{y}\\u003cbr\\u003epetal_length=%{customdata[1]}\\u003cextra\\u003e\\u003c\\u002fextra\\u003e\",\"legendgroup\":\"virginica\",\"marker\":{\"color\":\"#00cc96\",\"opacity\":0.7,\"size\":[5.1,5.0,4.9,6.7,6.4,5.2],\"sizemode\":\"area\",\"sizeref\":0.01725,\"symbol\":\"circle\"},\"mode\":\"markers\",\"name\":\"virginica\",\"orientation\":\"v\",\"showlegend\":true,\"x\":[3.2,2.5,2.8,2.8,3.8,3.0],\"xaxis\":\"x\",\"y\":[6.5,5.7,5.6,7.7,7.9,6.5],\"yaxis\":\"y\",\"type\":\"scatter\"}],\"name\":\"2.0\"},{\"data\":[{\"customdata\":[[2.4,5.1],[2.4,5.6],[2.4,5.6]],\"hovertemplate\":\"species=virginica\\u003cbr\\u003epetal_width=%{customdata[0]}\\u003cbr\\u003esepal_width=%{x}\\u003cbr\\u003esepal_length=%{y}\\u003cbr\\u003epetal_length=%{customdata[1]}\\u003cextra\\u003e\\u003c\\u002fextra\\u003e\",\"legendgroup\":\"virginica\",\"marker\":{\"color\":\"#00cc96\",\"opacity\":0.7,\"size\":[5.1,5.6,5.6],\"sizemode\":\"area\",\"sizeref\":0.01725,\"symbol\":\"circle\"},\"mode\":\"markers\",\"name\":\"virginica\",\"orientation\":\"v\",\"showlegend\":true,\"x\":[2.8,3.4,3.1],\"xaxis\":\"x\",\"y\":[5.8,6.3,6.7],\"yaxis\":\"y\",\"type\":\"scatter\"}],\"name\":\"2.4\"},{\"data\":[{\"customdata\":[[2.3,5.3],[2.3,6.9],[2.3,5.7],[2.3,6.1],[2.3,5.1],[2.3,5.9],[2.3,5.2],[2.3,5.4]],\"hovertemplate\":\"species=virginica\\u003cbr\\u003epetal_width=%{customdata[0]}\\u003cbr\\u003esepal_width=%{x}\\u003cbr\\u003esepal_length=%{y}\\u003cbr\\u003epetal_length=%{customdata[1]}\\u003cextra\\u003e\\u003c\\u002fextra\\u003e\",\"legendgroup\":\"virginica\",\"marker\":{\"color\":\"#00cc96\",\"opacity\":0.7,\"size\":[5.3,6.9,5.7,6.1,5.1,5.9,5.2,5.4],\"sizemode\":\"area\",\"sizeref\":0.01725,\"symbol\":\"circle\"},\"mode\":\"markers\",\"name\":\"virginica\",\"orientation\":\"v\",\"showlegend\":true,\"x\":[3.2,2.6,3.2,3.0,3.1,3.2,3.0,3.4],\"xaxis\":\"x\",\"y\":[6.4,7.7,6.9,7.7,6.9,6.8,6.7,6.2],\"yaxis\":\"y\",\"type\":\"scatter\"}],\"name\":\"2.3\"}]);\n",
       "                        }).then(function(){\n",
       "                            \n",
       "var gd = document.getElementById('42968ad7-610a-4b34-888f-095899769f68');\n",
       "var x = new MutationObserver(function (mutations, observer) {{\n",
       "        var display = window.getComputedStyle(gd).display;\n",
       "        if (!display || display === 'none') {{\n",
       "            console.log([gd, 'removed!']);\n",
       "            Plotly.purge(gd);\n",
       "            observer.disconnect();\n",
       "        }}\n",
       "}});\n",
       "\n",
       "// Listen for the removal of the full notebook cells\n",
       "var notebookContainer = gd.closest('#notebook-container');\n",
       "if (notebookContainer) {{\n",
       "    x.observe(notebookContainer, {childList: true});\n",
       "}}\n",
       "\n",
       "// Listen for the clearing of the current output cell\n",
       "var outputEl = gd.closest('.output');\n",
       "if (outputEl) {{\n",
       "    x.observe(outputEl, {childList: true});\n",
       "}}\n",
       "\n",
       "                        })                };                });            </script>        </div>"
      ]
     },
     "metadata": {},
     "output_type": "display_data"
    }
   ],
   "source": [
    "import plotly.express as px\n",
    "dff = px.data.iris()  # classic iris dataset with 'sepal_width' and 'sepal_length'\n",
    "\n",
    "fig = px.scatter(dff, x='sepal_width', y='sepal_length', color='species', title='Iris Dataset', opacity=0.7, size='petal_length', hover_data=['petal_width', 'petal_length'], animation_frame='petal_width', range_x=[2,5], range_y=[4,8])\n",
    "fig.show()"
   ]
  },
  {
   "cell_type": "code",
   "execution_count": 77,
   "id": "c35875cc-8d35-4a9b-bfae-271c622b635a",
   "metadata": {},
   "outputs": [],
   "source": [
    "fig.write_html(\"iris_scatter.html\")"
   ]
  },
  {
   "cell_type": "markdown",
   "id": "1c39590e-2eea-41f5-8aee-dfb8c7d8b0bd",
   "metadata": {},
   "source": [
    "### 10. Statistical Analysis (Correlation):\n",
    "Compute correlation and hypothesis test.\n",
    "\n",
    "Tasks: Calculate the Pearson correlation coefficient and the two-sided p-value between x and y. (Hint: Use stats.pearsonr(x, y). The Pearson coefficient measures the linear relationship between two datasets"
   ]
  },
  {
   "cell_type": "code",
   "execution_count": 82,
   "id": "b04f8634-2bdf-4289-b184-6439b0825766",
   "metadata": {},
   "outputs": [
    {
     "data": {
      "text/plain": [
       "PearsonRResult(statistic=0.996049388709566, pvalue=0.0002979015629585245)"
      ]
     },
     "execution_count": 82,
     "metadata": {},
     "output_type": "execute_result"
    }
   ],
   "source": [
    "import numpy as np\n",
    "from scipy import stats\n",
    "x = np.array([10, 20, 30, 40, 50])\n",
    "y = np.array([12, 24, 33, 47, 54])\n",
    "\n",
    "stats.pearsonr(x,y)"
   ]
  },
  {
   "cell_type": "markdown",
   "id": "ebc7d119-579a-44fc-81ca-14ae9e7bfc9a",
   "metadata": {},
   "source": [
    "#### 🧠 Meaning:\n",
    "\n",
    "statistic (r = 0.996) → This is the Pearson correlation coefficient.\n",
    "\n",
    "It measures the linear relationship between x and y.\n",
    "\n",
    "It ranges from -1 to +1:\n",
    "\n",
    "+1 → perfect positive correlation\n",
    "\n",
    "-1 → perfect negative correlation\n",
    "\n",
    "0 → no linear correlation\n",
    "\n",
    "Here, r = 0.996 → very strong positive correlation.\n",
    "\n",
    "pvalue = 0.0002979 → Tests whether the correlation is statistically significant.\n",
    "\n",
    "Since this value is very small (< 0.05), the correlation is statistically significant.\n",
    "\n",
    "It means: the probability that this correlation happened by chance is less than 0.03%."
   ]
  },
  {
   "cell_type": "code",
   "execution_count": null,
   "id": "30a37acd-b4b6-4cd5-bc70-8b87e0067950",
   "metadata": {},
   "outputs": [],
   "source": []
  }
 ],
 "metadata": {
  "kernelspec": {
   "display_name": "Python [conda env:base] *",
   "language": "python",
   "name": "conda-base-py"
  },
  "language_info": {
   "codemirror_mode": {
    "name": "ipython",
    "version": 3
   },
   "file_extension": ".py",
   "mimetype": "text/x-python",
   "name": "python",
   "nbconvert_exporter": "python",
   "pygments_lexer": "ipython3",
   "version": "3.12.7"
  }
 },
 "nbformat": 4,
 "nbformat_minor": 5
}
